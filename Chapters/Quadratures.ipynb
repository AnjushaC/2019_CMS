{
 "cells": [
  {
   "cell_type": "markdown",
   "metadata": {},
   "source": [
    "# Quadratures #"
   ]
  },
  {
   "cell_type": "code",
   "execution_count": 38,
   "metadata": {},
   "outputs": [],
   "source": [
    "import numpy as np;\n",
    "import matplotlib.pyplot as plt;\n",
    "pi = np.pi;"
   ]
  },
  {
   "cell_type": "code",
   "execution_count": 12,
   "metadata": {},
   "outputs": [],
   "source": [
    "def f(x):\n",
    "    return np.sin(x)*np.cos(x)*np.exp(np.sin(x)**2);"
   ]
  },
  {
   "cell_type": "code",
   "execution_count": 66,
   "metadata": {},
   "outputs": [
    {
     "data": {
      "image/png": "[encoded data removed]",
      "text/plain": [
       "<Figure size 432x288 with 1 Axes>"
      ]
     },
     "metadata": {
      "needs_background": "light"
     },
     "output_type": "display_data"
    }
   ],
   "source": [
    "intf_exact = 0.5*(np.exp(1)-1);\n",
    "\n",
    "Nmin = 5;\n",
    "Nmax = 10001;\n",
    "\n",
    "trapf = np.zeros(Nmax-Nmin+1);\n",
    "trape = np.zeros(Nmax-Nmin+1);\n",
    "rectf = np.zeros(Nmax-Nmin+1);\n",
    "recte = np.zeros(Nmax-Nmin+1);\n",
    "trapf1 = np.zeros(Nmax-Nmin+1);\n",
    "trape1 = np.zeros(Nmax-Nmin+1);\n",
    "\n",
    "\n",
    "for N in range(Nmin,Nmax+1):\n",
    "    h = pi/2/(N-1);\n",
    "    x = np.linspace(0,pi/2,N);\n",
    "    y = 0.5*(x[0:-2]+x[1:-1]);\n",
    "    index = N-Nmin;\n",
    "    trapf[index] = h*(np.sum(f(x)) - (f(x[0])+f(x[-1]))/2);\n",
    "    rectf[index]  = h*np.sum(f(y));\n",
    "#     simpf[index] = 2*/3rectf+1/3*trapf[index];\n",
    "    trapf1[index] = trapf[index] + h*h/12*(1+np.exp(1));\n",
    "\n",
    "\n",
    "plt.loglog(np.linspace(Nmin,Nmax,Nmax-Nmin+1),np.abs(trapf-intf_exact),'r');\n",
    "plt.loglog(np.linspace(Nmin,Nmax,Nmax-Nmin+1),np.abs(2/3*rectf+1/3*trapf-intf_exact),'r');\n",
    "plt.loglog(np.linspace(Nmin,Nmax,Nmax-Nmin+1),np.abs(rectf-intf_exact),'b');\n",
    "plt.loglog(np.linspace(Nmin,Nmax,Nmax-Nmin+1),np.abs(trapf1-intf_exact),'k');"
   ]
  },
  {
   "cell_type": "code",
   "execution_count": 48,
   "metadata": {},
   "outputs": [
    {
     "data": {
      "text/plain": [
       "9997"
      ]
     },
     "execution_count": 48,
     "metadata": {},
     "output_type": "execute_result"
    }
   ],
   "source": [
    "np.size(recte)"
   ]
  },
  {
   "cell_type": "code",
   "execution_count": 49,
   "metadata": {},
   "outputs": [
    {
     "data": {
      "text/plain": [
       "9997"
      ]
     },
     "execution_count": 49,
     "metadata": {},
     "output_type": "execute_result"
    }
   ],
   "source": [
    "Nmax-Nmin+1"
   ]
  },
  {
   "cell_type": "code",
   "execution_count": 26,
   "metadata": {},
   "outputs": [
    {
     "data": {
      "text/plain": [
       "3.4353752921689025"
      ]
     },
     "execution_count": 26,
     "metadata": {},
     "output_type": "execute_result"
    }
   ],
   "source": [
    "rectf"
   ]
  },
  {
   "cell_type": "code",
   "execution_count": null,
   "metadata": {},
   "outputs": [],
   "source": []
  }
 ],
 "metadata": {
  "kernelspec": {
   "display_name": "Python 3",
   "language": "python",
   "name": "python3"
  },
  "language_info": {
   "codemirror_mode": {
    "name": "ipython",
    "version": 3
   },
   "file_extension": ".py",
   "mimetype": "text/x-python",
   "name": "python",
   "nbconvert_exporter": "python",
   "pygments_lexer": "ipython3",
   "version": "3.6.6"
  }
 },
 "nbformat": 4,
 "nbformat_minor": 2
}
