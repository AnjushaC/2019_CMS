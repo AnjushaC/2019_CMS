{
 "cells": [
  {
   "cell_type": "markdown",
   "metadata": {},
   "source": [
    "Of course, not all problems can be treated as periodic. We now begin to consider how to construct spectral methods for bounded, non-periodic domains.\n",
    "\n",
    "Suppose that we wish to work on $[-1,1]$ with non-periodic functions. One approach would be to pretend that the functions were periodic and use trigonometric (i.e., Fourier based) interpolation in equispaced points. It is a method that works fine for problem like the one whose solutions tend to zero exponential fast near the boundaries. In general, however, this approach sacrifices the accuracy advantages of spectral methods. A smooth gunction becomes non-smooth in general when periodically extended.\n",
    "\n",
    "With a Fourier spectral method, the contamination caused by these discontinuities will be global, destroying the spectral accuracy - the Gibbs phenomenon visible in one of our earlier programs."
   ]
  },
  {
   "cell_type": "code",
   "execution_count": 2,
   "metadata": {},
   "outputs": [
    {
     "data": {
      "image/png": "[encoded data removed]",
      "text/plain": [
       "<Figure size 432x288 with 3 Axes>"
      ]
     },
     "metadata": {
      "needs_background": "light"
     },
     "output_type": "display_data"
    }
   ],
   "source": [
    "# Band limited interpolation\n",
    "import scipy as sp;\n",
    "import matplotlib.pyplot as plt\n",
    "h=1;\n",
    "xmax=10;\n",
    "N=2*xmax//h;\n",
    "x=sp.linspace(-xmax,xmax,N+1); # computational grid\n",
    "xx=sp.linspace(-xmax-h/20,xmax+h/20,10*(N+1)); # plotting grid\n",
    "\n",
    "\n",
    "for i in range(1,4):\n",
    "    plt.subplot(3,1,i);\n",
    "    if (i==1):\n",
    "        v=(x==0);\n",
    "    if (i==2):\n",
    "        v=(sp.absolute(x)<=3.0);\n",
    "    if (i==3):\n",
    "        v=(sp.maximum(0,1-sp.absolute(x)/3.0));\n",
    "    plt.plot(x,v,'ko');\n",
    "    p = sp.zeros(sp.size(xx));\n",
    "    for j in range (0,sp.size(x)):\n",
    "        y = (xx-x[j])/h;\n",
    "        p = p+v[j]*sp.sin(sp.pi*y)/(sp.pi*y);      \n",
    "    plt.plot(xx,p,'r-');\n",
    "    plt.axis([-11, 11, -0.25, 1.25]);\n",
    "\n",
    "plt.rcParams[\"figure.figsize\"] = [16,6]\n",
    "plt.subplots_adjust(left=None, bottom=None, right=None, top=None, wspace=None, hspace=0.5);\n",
    "plt.show()"
   ]
  },
  {
   "cell_type": "markdown",
   "metadata": {},
   "source": [
    "The error in the interpolant will be $\\mathcal{O}(1)$, the error in the first derivative will be $\\mathcal{O}(N)$ and so on. These errors will remain significant if extra steps are taken to make the function under study periodic. To achiever good accuracy by a method of that kind it would be necessary to enforce continuity not just of the function values but also of several derivatives, a process neither elegant nor efficient.\n",
    "\n",
    "Instead it is customary to replace trigonometric polynomials by algebraic polynomials, i.e., $p(x) = a_0+a_1 x + a_2 x^2 + \\cdots + a_N x^N$. The first idea we might have is to use polynomial interpolation in equispaced points. Now this, as it turns out, is **extremely bad** in general. A problem know as the Runge phenomenon is encountered that is more extreme than the Gibbs phenomenon. Let us consider the problem of interpolation using polynomials at $N+1$ grid points."
   ]
  },
  {
   "cell_type": "code",
   "execution_count": 85,
   "metadata": {},
   "outputs": [],
   "source": [
    "import scipy as sp;\n",
    "import numpy as np;\n",
    "def Lagrange(x,xnodes,k):\n",
    "    n = sp.size(xnodes);\n",
    "    l = 1;\n",
    "    for i in sp.arange(0,k):\n",
    "        l = l * (x-xnodes[i])/(xnodes[k]-xnodes[i]);\n",
    "    for i in sp.arange(k+1,n):\n",
    "        l = l * (x-xnodes[i])/(xnodes[k]-xnodes[i]);\n",
    "    return l;"
   ]
  },
  {
   "cell_type": "code",
   "execution_count": 105,
   "metadata": {},
   "outputs": [
    {
     "data": {
      "application/vnd.jupyter.widget-view+json": {
       "model_id": "d20d8aa30aad41fd9999a6833efa9949",
       "version_major": 2,
       "version_minor": 0
      },
      "text/plain": [
       "interactive(children=(IntSlider(value=3, description='n', max=25, min=3, step=2), Output()), _dom_classes=('wi…"
      ]
     },
     "metadata": {},
     "output_type": "display_data"
    }
   ],
   "source": [
    "import matplotlib.pyplot as plt;\n",
    "import pylab as pl;\n",
    "import scipy as sp;\n",
    "from ipywidgets import interact;\n",
    "@interact(n=(3,25,2))\n",
    "def Runge_interpolant(n=3):\n",
    "#     xnodes = sp.linspace(-1,1,n);\n",
    "    xnodes = sp.cos(sp.pi*sp.arange(0,n)/(n-1));\n",
    "    fnodes = 1.0/(1.0+25.0*xnodes*xnodes);\n",
    "    nplot  = 1001;\n",
    "    f        = np.zeros(nplot).reshape(nplot,1);\n",
    "    x        = sp.linspace(-1,1,nplot).reshape(nplot,1);\n",
    "    f_actual = 1.0/(1.0+25.0*x*x);\n",
    "    for k in sp.arange(0,n):\n",
    "        f = f+fnodes[k]*Lagrange(x,xnodes,k).reshape(nplot,1);\n",
    "    pl.plot(x,f,'r-');\n",
    "    pl.plot(x,f_actual,'k-');\n",
    "    pl.plot(xnodes,fnodes,'k+');\n",
    "    pl.rcParams[\"figure.figsize\"] = [16,4];"
   ]
  },
  {
   "cell_type": "code",
   "execution_count": 127,
   "metadata": {},
   "outputs": [
    {
     "data": {
      "application/vnd.jupyter.widget-view+json": {
       "model_id": "a030cc7e5a984103b3d0b2a31bac79cc",
       "version_major": 2,
       "version_minor": 0
      },
      "text/plain": [
       "interactive(children=(IntSlider(value=3, description='n', max=45, min=3, step=2), Output()), _dom_classes=('wi…"
      ]
     },
     "metadata": {},
     "output_type": "display_data"
    }
   ],
   "source": [
    "import matplotlib.pyplot as plt;\n",
    "import pylab as pl;\n",
    "import scipy as sp;\n",
    "from ipywidgets import interact;\n",
    "@interact(n=(3,45,2))\n",
    "def growth_error(n=3):\n",
    "#     xnodes = sp.linspace(-1,1,n);\n",
    "    xnodes = sp.cos(sp.pi*sp.arange(0,n)/(n-1));\n",
    "    nplot  = 1001;\n",
    "    f        = np.ones(nplot).reshape(nplot,1);\n",
    "    x        = sp.linspace(-1,1,nplot).reshape(nplot,1);\n",
    "    for k in sp.arange(0,n):\n",
    "        f = f*(x-xnodes[k]);\n",
    "    fmax = sp.amax(f);\n",
    "    pl.plot(x,2**n*f,'r-');\n",
    "    pl.rcParams[\"figure.figsize\"] = [16,4];"
   ]
  },
  {
   "cell_type": "code",
   "execution_count": null,
   "metadata": {},
   "outputs": [],
   "source": []
  }
 ],
 "metadata": {
  "kernelspec": {
   "display_name": "Python 3",
   "language": "python",
   "name": "python3"
  },
  "language_info": {
   "codemirror_mode": {
    "name": "ipython",
    "version": 3
   },
   "file_extension": ".py",
   "mimetype": "text/x-python",
   "name": "python",
   "nbconvert_exporter": "python",
   "pygments_lexer": "ipython3",
   "version": "3.6.6"
  }
 },
 "nbformat": 4,
 "nbformat_minor": 2
}
