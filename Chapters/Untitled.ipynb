{
 "cells": [
  {
   "cell_type": "markdown",
   "metadata": {},
   "source": [
    "$\\newcommand{\\Zb}{\\mathbb{Z}}$\n",
    "$\\newcommand{\\Rb}{\\mathbb{R}}$\n",
    "$\\newcommand{\\dsum}{\\displaystyle\\sum}$\n",
    "\n",
    "# Periodic Grids: The DFT and FFT\n",
    "\n",
    "We now turn to spectral differentiation on a bounded, periodic grid. This process was stated in the form of an $N \\times N$ matrix operation in the first chapter. Whereas the last chapter dealt with the infinite matrix corresponding to the unbounded grid $h\\Zb$, this chapter develops a practical scheme for computation. Mathematically, there are close connections between the two schemes, and the derivation of our spectral method will follow the same pattern as before. The difference is that the semi-discrete Fourier transform is replaced by the discrete Fourier transform (DFT), which can be computed by the Fast Fourier Transform (FFT).\n",
    "\n",
    "At first sight, the requirement of periodicity may suggest that this method has limited relevance for practical problems. Yet periodic grids are surprisingly useful in practice. Often in scientific computing a phenomenon is of interest that is unrelated to boundaries, such as the interactin of solitons in the KdV equation or the behavior of homogeneous turbulence. For such problems, periodic boundary conditions often prove the best choice for computation. In addition, some geometries are physically periodic, such as crystal lattics or rows of turbine blades. Finally, even if the physics is not periodic, the coordinate space may be, as is the case for a $\\theta$ or $\\phi$ variable in a computation invovling polar or spherical coordinates (see Chapter $11$). Indeed, among the most common of all spectral methods are methods that mix periodic grids in one or two angular directions with non-periodic grids in one or two radial or longitudinal directions.\n",
    "\n",
    "Our basic periodic grid will be a subset of the interval $[0,2\\pi]$:"
   ]
  },
  {
   "cell_type": "code",
   "execution_count": 2,
   "metadata": {},
   "outputs": [],
   "source": [
    "%load_ext tikzmagic"
   ]
  },
  {
   "cell_type": "code",
   "execution_count": 3,
   "metadata": {},
   "outputs": [
    {
     "data": {
      "application/javascript": [
       "MathJax.Hub.Config({\n",
       "    TeX: { equationNumbers: { autoNumber: \"AMS\" } }\n",
       "});\n",
       "\n",
       "MathJax.Hub.Queue(\n",
       "  [\"resetEquationNumbers\", MathJax.InputJax.TeX],\n",
       "  [\"PreProcess\", MathJax.Hub],\n",
       "  [\"Reprocess\", MathJax.Hub]\n",
       ");"
      ],
      "text/plain": [
       "<IPython.core.display.Javascript object>"
      ]
     },
     "metadata": {},
     "output_type": "display_data"
    }
   ],
   "source": [
    "%%javascript\n",
    "MathJax.Hub.Config({\n",
    "    TeX: { equationNumbers: { autoNumber: \"AMS\" } }\n",
    "});\n",
    "\n",
    "MathJax.Hub.Queue(\n",
    "  [\"resetEquationNumbers\", MathJax.InputJax.TeX],\n",
    "  [\"PreProcess\", MathJax.Hub],\n",
    "  [\"Reprocess\", MathJax.Hub]\n",
    ");"
   ]
  },
  {
   "cell_type": "code",
   "execution_count": 19,
   "metadata": {},
   "outputs": [
    {
     "data": {
      "image/png": "[encoded data removed]"
     },
     "metadata": {},
     "output_type": "display_data"
    }
   ],
   "source": [
    "%%tikz --scale=1\n",
    "\\draw (0,0) -- (10,0);\n",
    "\\foreach \\i in {0,1,...,10}{\n",
    "    \\draw [fill=black] (\\i,0) circle (0.1);\n",
    "};\n",
    "\\node at (0,0.4) {$0$};\n",
    "\\node at (1,-0.3) {$x_1$};\n",
    "\\node at (2,-0.3) {$x_2$};\n",
    "\\node at (5,0.4) {$\\pi$};\n",
    "\\node at (5,-0.3) {$x_{N/2}$};\n",
    "\\node at (10,-0.3) {$x_{N}$};\n",
    "\\node at (10,0.4) {$2\\pi$};"
   ]
  },
  {
   "cell_type": "markdown",
   "metadata": {},
   "source": [
    "Intervals of length other than $2\\pi$ are easily handled by a scale factor and translations to other intervals such as $\\left[-\\pi,\\pi\\right]$ make no difference at all. When we talk about a periodic grid, we mean that any data values on the grid come from evaluating a periodic function. Equivalently, we may regard the periodic grid as one cycle of length $N$ extracted from an infinite grid with data satisfying $v_{j+mN} = v_j$ for all $j,m \\in \\Zb$.\n",
    "\n",
    "Throughout the book, the number of grid points on a periodic grid will always be even. All our results have analogues for odd $N$, but the formulas are slightly different, and little would be gained by writing everything twice. The spacing of the grid points is $h=\\dfrac{2\\pi}N$, which gives us\n",
    "\n",
    "$$\\dfrac{\\pi}h = \\dfrac{N}2$$\n",
    "\n",
    "We recommend the reader memorize this equation. The quotient $\\pi/h$ will appear over and over, since $\\left[-\\dfrac{\\pi}h, \\dfrac{\\pi}h\\right]$ is the range of wavenumbers distinguishable on the grid. We will make constant use of the above equation.\n",
    "\n",
    "Let us consider the Fourier transform on the $N$-point grid. As in the last chapter, the mesh spacing $h$ implies that wavenumbers differing by an integer multiple of $2\\pi/h$ are indistinguishable on the grid, and thus it will be enough to confine our attention to $k \\in \\left[-\\pi/h,\\pi/h\\right]$. Now, however, the Fourier domain is discrete as well as bounded. This is because waves in physical space must be periodic over the interval $[0,2\\pi]$, and only waves $e^{ikx}$ with integer wavenumbers have the required period $2\\pi$. We find:\n",
    "\n",
    "\\begin{align*}\n",
    "\\text{Physical space} & : & \\text{discrete}, & \\text{bounded} & : & x \\in \\{h,2h,\\ldots,2\\pi-h,2\\pi\\}\\\\\n",
    "\\text{Fourier space} & : & \\text{bounded}, & \\text{discrete} & : & k \\in \\{-\\dfrac{N}2+1,-\\dfrac{N}2+2,\\ldots, \\dfrac{N}2\\}\n",
    "\\end{align*}\n",
    "\n",
    "The formula for the *discrete Fourier Transform (DFT)* is\n",
    "\n",
    "$$\\hat{v}_k = h \\dsum_{j=1}^N e^{-ikx_j} v_j, \\,\\,\\,\\, \\forall k \\in \\left\\{-\\dfrac{N}2+1, -\\dfrac{N}2+2, \\ldots, \\dfrac{N}2\\right\\}$$\n",
    "\n",
    "These formulas may be compared with the Formulas from the previous chapter for Fourier transform and its inverse and the semi-discrete Fourier transform and its inverse.\n",
    "\n",
    "In the formulas above, we see that the wavenumber $k$, like the spatial index $j$, takes only integer values. Nothing continuous or infinite is left in the problem, and we can easily check that the above two are inverses of one another for arbitrary vectors $\\\\bkt{v_1,v_2,\\\\ldots,v_N}^T \\\\in \\\\Rb^N$ or $\\\\Cb^N$, without *any technical restrictions*.\n",
    "\n",
    "For spectral differentiation of a grid function $v$, we follow the model of the last chapter exactly. First we need a band-limited interpolant of $v$, which we obtain by evaluating the inverse discrete Fourier transform for all $x$ rather than just on the grid. But before we differentiate our interpolant, there is a complication to address. Consider the saw-toothed function at the grid points $jh$, where $j \\\\in \\\\{1,2,\\\\ldots,N\\\\}$, such that $Nh=2\\\\pi$, i.e., the function is defined as\n",
    "\n",
    "We now turn to spectral differentiation on a bounded, periodic grid. This process was stated in the form of an $N \\\\times N$ matrix operation in the first chapter. Whereas the last chapter dealt with the infinite matrix corresponding to the unbounded grid $h\\\\Zb$, this chapter develops a practical scheme for computation. Mathematically, there are close connections between the two schemes, and the derivation of our spectral method will follow the same pattern as before. The difference is that the semi-discrete Fourier transform is replaced by the discrete Fourier transform (DFT), which can be computed by the Fast Fourier Transform (FFT)."
   ]
  },
  {
   "cell_type": "code",
   "execution_count": null,
   "metadata": {},
   "outputs": [],
   "source": []
  }
 ],
 "metadata": {
  "kernelspec": {
   "display_name": "Python 3",
   "language": "python",
   "name": "python3"
  },
  "language_info": {
   "codemirror_mode": {
    "name": "ipython",
    "version": 3
   },
   "file_extension": ".py",
   "mimetype": "text/x-python",
   "name": "python",
   "nbconvert_exporter": "python",
   "pygments_lexer": "ipython3",
   "version": "3.6.6"
  }
 },
 "nbformat": 4,
 "nbformat_minor": 2
}
