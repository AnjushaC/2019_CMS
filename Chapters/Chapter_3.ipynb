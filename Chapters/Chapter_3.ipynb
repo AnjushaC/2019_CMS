{
 "cells": [
  {
   "cell_type": "markdown",
   "metadata": {},
   "source": [
    "$\\newcommand{\\Zb}{\\mathbb{Z}}$\n",
    "$\\newcommand{\\bkt}[1]{\\left(#1\\right)}$\n",
    "$\\newcommand{\\Cb}{\\mathbb{C}}$\n",
    "$\\newcommand{\\Rb}{\\mathbb{R}}$\n",
    "$\\newcommand{\\dsum}{\\displaystyle\\sum}$\n",
    "\n",
    "# Periodic Grids: The DFT and FFT\n",
    "\n",
    "   \n",
    "   \n",
    "   At first sight, the requirement of periodicity may suggest that this method has limited relevance for practical problems. Yet periodic grids are surprisingly useful in practice. Often in scientific computing a phenomenon is of interest that is unrelated to boundaries, such as the interactin of solitons in the KdV equation or the behavior of homogeneous turbulence. For such problems, periodic boundary conditions often prove the best choice for computation. In addition, some geometries are physically periodic, such as crystal lattics or rows of turbine blades. Finally, even if the physics is not periodic, the coordinate space may be, as is the case for a $\\theta$ or $\\phi$ variable in a computation invovling polar or spherical coordinates (see Chapter $11$). Indeed, among the most common of all spectral methods are methods that mix periodic grids in one or two angular directions with non-periodic grids in one or two radial or longitudinal directions.\n",
    "\n",
    "   Our basic periodic grid will be a subset of the interval $[0,2\\pi]$:"
   ]
  },
  {
   "cell_type": "code",
   "execution_count": 1,
   "metadata": {
    "collapsed": true
   },
   "outputs": [],
   "source": [
    "%reload_ext tikzmagic"
   ]
  },
  {
   "cell_type": "code",
   "execution_count": 2,
   "metadata": {},
   "outputs": [
    {
     "data": {
      "image/png": "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",
      "text/plain": [
       "<IPython.core.display.Image object>"
      ]
     },
     "execution_count": 2,
     "metadata": {},
     "output_type": "execute_result"
    }
   ],
   "source": [
    "%%tikz --scale=1\n",
    "\\draw (0,0) -- (10,0);\n",
    "\\foreach \\i in {0,1,...,10} {\n",
    "    \\draw [fill=black] (\\i,0) circle (0.075);\n",
    "}\n",
    "\\node at (0,0.5) {$0$};\n",
    "\\node at (5,0.5) {$\\pi$};\n",
    "\\node at (10,0.5) {$2\\pi$};\n",
    "\\node at (1,-0.5) {$x_1$};\n",
    "\\node at (2,-0.5) {$x_2$};\n",
    "\\node at (5,-0.5) {$x_{N/2}$};\n",
    "\\node at (10,-0.5) {$x_N$};"
   ]
  },
  {
   "cell_type": "markdown",
   "metadata": {},
   "source": [
    "Intervals of length other than $2\\pi$ are easily handled by a scale factor and translations to other intervals such as $\\left[-\\pi,\\pi\\right]$ make no difference at all. When we talk about a periodic grid, we mean that any data values on the grid come from evaluating a periodic function. Equivalently, we may regard the periodic grid as one cycle of length $N$ extracted from an infinite grid with data satisfying $v_{j+mN} = v_j$ for all $j,m \\in \\Zb$.\n",
    "\n",
    "   Throughout the book, the number of grid points on a periodic grid will always be even. All our results have analogues for odd $N$, but the formulas are slightly different, and little would be gained by writing everything twice. The spacing of the grid points is $h=\\dfrac{2\\pi}N$, which gives us\n",
    "    \\begin{align}\n",
    "    \\dfrac{\\pi}h = \\dfrac{N}2\n",
    "    \\label{eqn_1}\n",
    "    \\end{align}\n",
    "\n",
    "   We recommend the reader memorize this equation. The quotient $\\pi/h$ will appear over and over, since $\\left[-\\dfrac{\\pi}h, \\dfrac{\\pi}h\\right]$ is the range of wavenumbers distinguishable on the grid. We will make constant use of \\eqref{eqn_1}.\n",
    "   \n",
    "   Let us consider the Fourier transform on the $N$-point grid. As in the last chapter, the mesh spacing $h$ implies that wavenumbers differing by an integer multiple of $2\\pi/h$ are indistinguishable on the grid, and thus it will be enough to confine our attention to $k \\in \\left[-\\pi/h,\\pi/h\\right]$. Now, however, the Fourier domain is discrete as well as bounded. This is because waves in physical space must be periodic over the interval $[0,2\\pi]$, and only waves $e^{ikx}$ with integer wavenumbers have the required period $2\\pi$. We find:\n",
    "   \n",
    "\\begin{align}\n",
    "   \\text{Physical space: Discrete, Bounded;} & x \\in \\left\\{h,2h,\\ldots,2\\pi-h,2\\pi\\right\\}\\\\\n",
    "   \\text{Fourier space: Bounded, Discrete;} & k \\in \\left\\{-\\dfrac{N}2+1, -\\dfrac{N}2+2, \\cdots, \\dfrac{N}2-1, \\dfrac{N}2\\right\\}\n",
    "\\end{align}"
   ]
  },
  {
   "cell_type": "markdown",
   "metadata": {},
   "source": [
    "The formula for the *discrete Fourier Transform (DFT)* is\n",
    "\\begin{align}\n",
    "\\hat{v}_k & = h \\dsum_{j=1}^N e^{-ikx_j} v_j, \\,\\,\\,\\, & k \\in \\{-\\frac{N}2+1,\\ldots,\\frac{N}2\\}\n",
    "\\label{dft}\n",
    "\\end{align}\n",
    "and the *inverse discrete Fourier Transform* is given by\n",
    "\\begin{align}\n",
    "v_j & = \\dfrac1{2\\pi} \\dsum_{k=-N/2+1}^{N/2} e^{ikx_j} \\hat{v}_k, \\,\\,\\,\\, & j \\in \\{1,2,\\ldots,N\\}\n",
    "\\label{idft}\n",
    "\\end{align}\n",
    "\n",
    "These formulas may be compared with the Formulas from the previous chapter for Fourier transform and its inverse and the semi-discrete Fourier transform and its inverse.\n",
    "\n",
    "In the formulas above, we see that the wavenumber $k$, like the spatial index $j$, takes only integer values. Nothing continuous or infinite is left in the problem, and we can easily check that the above two are inverses of one another for arbitrary vectors $\\bkt{v_1,v_2,\\ldots,v_N}^T \\in \\Rb^N$ or $\\Cb^N$, without *any technical restrictions*.\n",
    "\n",
    "For spectral differentiation of a grid function $v$, we follow the model of the last chapter exactly. First we need a band-limited interpolant of $v$, which we obtain by evaluating the inverse discrete Fourier transform for all $x$ rather than just on the grid. But before we differentiate our interpolant, there is a complication to address. Consider the saw-toothed function at the grid points $jh$, where $j \\in \\{1,2,\\ldots,N\\}$, such that $Nh=2\\pi$, i.e., the function is defined as\n",
    "\\begin{align}\n",
    "    v_j = \\begin{cases}\n",
    "    -1 & \\text{if $j$ is odd}\\\\\n",
    "    1 & \\text{if $j$ is even}\\\\\n",
    "    \\end{cases}\n",
    "\\end{align}\n",
    "The discrete Fourier transform (DFT) is\n",
    "\\begin{align}\n",
    "    \\hat{v}_k & = h\\dsum_{j=\\text{even}} e^{-ikhj} - h\\dsum_{j=\\text{odd}} e^{-ikjh}\\\\\n",
    "    & = h \\bkt{e^{-2ikh} + e^{-4ikh} + \\cdots + e^{-Nikh}} - h \\bkt{e^{-ikh} + e^{-3ikh} + \\cdots + e^{-(N-1)ikh}}\\\\\n",
    "    & = h\\bkt{e^{-2ikh}-e^{-ikh}}\\bkt{1+e^{-2ikh}+e^{-4ikh}+\\cdots+e^{-(N-2)ikh}}\n",
    "\\end{align}\n",
    "Hence, note that when $e^{-2ikh} \\neq 1$, i.e., when $2kh \\not\\equiv 0\\pmod{2\\pi}$, we have\n",
    "\\begin{align}\n",
    "    \\hat{v}_k & = h\\bkt{\\dfrac{e^{-2ikh}-e^{-ikh}}{1-e^{-2ikh}}}\\bkt{1-e^{-Nikh}} = 0\n",
    "\\end{align}\n",
    "This gives us that\n",
    "\\begin{align}\n",
    "    \\hat{v}_k = & \\begin{cases}\n",
    "    0 & \\text{ if }k \\neq N/2\\\\\n",
    "    2\\pi & \\text{ if }k=N/2\n",
    "    \\end{cases}\n",
    "\\end{align}\n",
    "Equivalent, we have\n",
    "$$v_j = e^{ij\\pi}$$\n",
    "Hence, the interpolant would be\n",
    "$$p(x) = e^{iNx/2}$$\n",
    "The derivative would then be\n",
    "$$p'(x) = \\dfrac{iN}2 e^{iNx/2}$$\n",
    "However, since $e^{iNx/2}$ represents a real, sawtooth wave on the grid, its derivative should be zero at the grid points, not a complex exponential!\n",
    "\n",
    "The problem is that Equation\\eqref{idft} treats the highest wavenumber assymetrically. We can fix this be defining $\\hat{v}_{-N/2} = \\hat{v}_{N/2}$ and replacing Equation\\eqref{idft} by\n",
    "\\begin{align}\n",
    "v_j & = \\dfrac1{2\\pi} \\dsum_{k=-N/2}^{N/2} e^{ikx_j} \\hat{v'}_k, \\,\\,\\,\\, & j \\in \\{1,2,\\ldots,N\\}\n",
    "\\label{idft1}\n",
    "\\end{align}\n",
    "where\n",
    "\\begin{align}\n",
    "\\hat{v'}_k = & \n",
    "\\begin{cases}\n",
    "\\hat{v}_k & \\text{ if }k \\neq \\pm N/2\\\\\n",
    "\\dfrac12 \\hat{v}_k & \\text{ if }k = \\pm N/2\n",
    "\\end{cases}\n",
    "\\end{align}"
   ]
  },
  {
   "cell_type": "code",
   "execution_count": 3,
   "metadata": {},
   "outputs": [
    {
     "data": {
      "image/png": "iVBORw0KGgoAAAANSUhEUgAAAY0AAAD9CAYAAABA8iukAAAABHNCSVQICAgIfAhkiAAAAAlwSFlz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\nQCAQCFQjlIZAIBAIVPN/AOayxkQTtogXAAAAAElFTkSuQmCC\n",
      "text/plain": [
       "<matplotlib.figure.Figure at 0x10a615dd8>"
      ]
     },
     "metadata": {},
     "output_type": "display_data"
    }
   ],
   "source": [
    "import matplotlib.pyplot as plt;\n",
    "import scipy;\n",
    "N = 10;\n",
    "pi = scipy.pi;\n",
    "x = scipy.linspace(0,2*pi,10000);\n",
    "xm = scipy.linspace(0,2*pi,N+1);\n",
    "ym = scipy.cos(N*xm/2);\n",
    "ax  = plt.gca();\n",
    "\n",
    "# Move bottom x-axis to centre\n",
    "ax.spines['bottom'].set_position('center');\n",
    "\n",
    "# Eliminate upper and right axes\n",
    "ax.spines['right'].set_color('none');\n",
    "ax.spines['top'].set_color('none');\n",
    "\n",
    "# Show ticks in the left and lower axes only\n",
    "ax.xaxis.set_ticks_position('bottom');\n",
    "ax.yaxis.set_ticks_position('left');\n",
    "\n",
    "plt.plot(x,scipy.cos(N*x/2));\n",
    "plt.plot(xm,ym,'ro');\n",
    "plt.rcParams[\"figure.figsize\"] = [10,4];\n",
    "plt.axis([0,2*pi*1.05,-1.2,1.2]);\n",
    "plt.xlabel('$x$');\n",
    "plt.ylabel('$v$');\n",
    "plt.title('The sawtooth grid function and its interpolant $\\cos(\\pi x/h)$.');\n",
    "plt.show()"
   ]
  },
  {
   "cell_type": "markdown",
   "metadata": {},
   "source": [
    "With this definition, we see that\n",
    "$$v_j = \\dfrac{e^{-iNx_j/2} + e^{iNx_j/2}}2 = \\cos\\bkt{Nx_j/2}$$\n",
    "The interpolant then becomes\n",
    "$$p(x) = \\cos\\bkt{Nx/2}$$\n",
    "\n",
    "Note that in general, we have $p(x)$ to be a trigonometric polynomial of degree at most $N/2$. This means that it can be written as a linear combination of the functions\n",
    "$$1,\\sin(x),\\cos(x),\\sin(2x),\\cos(2x),\\ldots, \\sin(Nx/2),\\cos(Nx/2)$$\n",
    "\n",
    "To interpolate a generic grid function $v$, as in previous chapter, we can use this general formula, or we can compute the band-limited interpolant of the delta function and expand $v$ as a linear combination of translated delta functions. The delta function is now periodic, i.e.,\n",
    "$$\\delta_j = \\begin{cases}\n",
    "1 & \\text{ if }j \\equiv 0 \\pmod N\\\\\n",
    "0 & \\text{ if }j \\not\\equiv 0 \\pmod N\n",
    "\\end{cases}$$\n",
    "\n",
    "For $\\delta_j$, we see that the Discrete Fourier transform is given by $\\hat{\\delta}_k = h$ for each $k$, and hence we obtain\n",
    "\\begin{align}\n",
    "p(x) & = \\dfrac{h}{2\\pi}\\bkt{\\dfrac{e^{iNx/2}+e^{-iNx/2}}{2}} + \\dfrac{h}{2\\pi} \\dsum_{k=-N/2+1}^{N/2-1} e^{ikx}\\\\\n",
    "& = \\dfrac{h}{2\\pi} \\cos\\bkt{Nx/2} + \\dfrac{h}{2\\pi} + \\dfrac{h}{\\pi} \\dsum_{k=1}^{N/2-1} \\cos\\bkt{kx}\\\\\n",
    "& = \\dfrac{h}{2\\pi} \\cos\\bkt{Nx/2} + \\dfrac{h}{2\\pi} + \\dfrac{h}{2\\pi} \\bkt{-\\cos\\bkt{Nx/2}-1 + \\sin\\bkt{Nx/2}\\cot\\bkt{x/2}}\\\\\n",
    "& = \\dfrac{h}{2\\pi} \\cot\\bkt{x/2} \\sin\\bkt{Nx/2}\\\\\n",
    "& = \\dfrac{h}{2\\pi} \\cot\\bkt{x/2} \\sin\\bkt{\\pi x/h}\n",
    "\\end{align}\n",
    "Hence, we conclude that the band-limited interpolant to $\\delta$ is the periodic sinc function $S_N$, given by\n",
    "$$S_N\\bkt{x} = \\dfrac{\\sin\\bkt{\\pi x/h}}{\\bkt{2\\pi /h} \\tan\\bkt{x/2}}$$\n",
    "Note that as $x \\to 0$, we have $\\tan\\bkt{x/2} \\sim \\dfrac{x}2$. Hence, we see that $S_n(x)$ behaves like the non-periodic function $S_h(x)$ discussed in the previous chapter, in the limit as $x \\to 0$, independently of $h$. See the Figure below for the plot of $S_N(x)$."
   ]
  },
  {
   "cell_type": "code",
   "execution_count": 2,
   "metadata": {
    "scrolled": true
   },
   "outputs": [
    {
     "data": {
      "application/vnd.jupyter.widget-view+json": {
<<<<<<< HEAD
       "model_id": "5560423d8c4f46e4a18bca77a96ebe37",
=======
       "model_id": "8c4555738b1545c998fbdab5acdfe012",
>>>>>>> eb138daf4bb7e06fb4e03eaa416689aaf69a2164
       "version_major": 2,
       "version_minor": 0
      },
      "text/plain": [
       "A Jupyter Widget"
      ]
     },
     "metadata": {},
     "output_type": "display_data"
    }
   ],
   "source": [
    "import pylab as pl;\n",
    "import scipy as sp;\n",
    "pi = sp.pi;\n",
    "N = 8;\n",
    "h = 2*pi/N;\n",
    "n = 1000;\n",
    "from ipywidgets import interact\n",
    "\n",
    "xp = sp.linspace(-pi, 3*pi, n);\n",
    "\n",
    "@interact\n",
    "def plot_periodic_sinc(N=(4, 16, 2)):\n",
    "    h = 2*pi/N;\n",
    "    yp = sp.sin(pi*xp/h)/(2*pi/h)/sp.tan(xp/2);\n",
    "    xg = sp.linspace(-pi,3*pi,2*N+1);\n",
    "    yg = sp.zeros(2*N+1);\n",
    "    yg[N//2] = 1;\n",
    "    yg[3*N//2] = 1;\n",
    "    pl.plot(xp, yp)\n",
    "    pl.plot(xg, yg,'ro')"
   ]
  },
  {
   "cell_type": "markdown",
   "metadata": {},
   "source": [
    "An expansion of a periodic grid function $v$ in the basis of shifted periodic delta functions takes the form $v_j = \\dsum_{m=1}^N v_m \\delta_{j-m}$. Thus the banded limited interpolant of the discrete data taking the values $v_j$ at $x_j$ can be written as\n",
    "$$p(x) = \\dsum_{m=1}^N v_m S_N\\bkt{x-x_m}$$\n",
    "\n",
    "After a small algebraic manipulation, we see that\n",
    "$$S_N'\\bkt{x_j} = \\begin{cases}\n",
    "0 & \\text{ if } j \\equiv 0 \\pmod{N}\\\\\n",
    "\\dfrac12 \\bkt{-1}^j \\cot\\bkt{jh/2} & j \\not\\equiv 0 \\pmod{N}\n",
    "\\end{cases}$$\n",
    "\n",
    "As discussed in the last chapter, these numbers are the entries of one column of the spectral differentiation matrix - the $N^{th}$ column of the $N \\times N$ matrix, since $N \\equiv 0 \\pmod{N}$. This matrix $D_N$ was presented already in the first chapter.\n",
    "\n",
    "\\begin{align}\n",
    "D_N(i,j) & = \\begin{cases}\n",
    "\\bkt{-1}^{i-j} \\dfrac12 \\cot \\bkt{\\dfrac{(i-j)h}2} & \\text{if } i \\neq j\\\\\n",
    "0 & \\text{if }i=j\n",
    "\\end{cases}\n",
    "\\end{align}\n",
    "\n",
    "The next program illustrates the use of $D_N$ for spectral differentiation of a hat function and the smooth function $e^{\\sin(x)}$. The accruacy for the hat function is poor, because the function is not smooth, but the accuracy for $e^{\\sin(x)}$ is outstanding."
   ]
  },
  {
   "cell_type": "code",
   "execution_count": 145,
   "metadata": {},
   "outputs": [
    {
     "data": {
      "application/vnd.jupyter.widget-view+json": {
       "model_id": "e215b6a97559405ea086aa71b7b934cd",
       "version_major": 2,
       "version_minor": 0
      },
      "text/plain": [
       "A Jupyter Widget"
      ]
     },
     "metadata": {},
     "output_type": "display_data"
    }
   ],
   "source": [
    "import pylab as pl;\n",
    "import scipy as sp;\n",
    "from decimal import Decimal;\n",
    "from scipy.linalg import circulant;\n",
    "from scipy.linalg import norm;\n",
    "pi = sp.pi;\n",
    "from ipywidgets import interact;\n",
    "@interact\n",
    "def spectral_differentiation(N=(10, 30, 2)):\n",
    "    h = 2*pi/N;\n",
    "    x = h*sp.linspace(1,N,N);\n",
    "    col = sp.zeros(N);\n",
    "    list = sp.linspace(1,N-1,N-1);\n",
    "    sp.size(list)\n",
    "    col[sp.arange(1,N)] = 0.5*(-1)**sp.arange(1,N)/sp.tan(h*sp.arange(1,N)/2);\n",
    "    D   =  circulant(col);\n",
    "\n",
    "    # Differentiation of a hat function and exp(sin(x))\n",
    "    v1   = sp.maximum(0,1-0.5*sp.absolute(x-pi));\n",
    "    v2   = sp.exp(sp.sin(x));\n",
    "    dv1  = sp.dot(D,v1);\n",
    "    dv2  = sp.dot(D,v2);\n",
    "    dv1_e        = sp.zeros(N);\n",
    "    dv1_e[2:N-1] = 0.5*(v1[3:N]-v1[1:N-2])/h;\n",
    "    dv2_e        = sp.exp(sp.sin(x))*sp.cos(x);\n",
    "    error1    = norm(dv1-dv1_e);\n",
    "    n1 = sp.around(sp.log10(error1));\n",
    "    error2    = norm(dv2-dv2_e);\n",
    "    n2 = sp.around(sp.log10(error2));\n",
    "    error_1 = '%.2E' % Decimal(error1);\n",
    "    error_2 = '%.2E' % Decimal(error2);\n",
    "    ax = pl.subplots(nrows=2, ncols=2);\n",
    "    pl.subplot(2,2,1);\n",
    "    pl.plot(x,v1);\n",
    "    pl.subplot(2,2,2);\n",
    "    pl.plot(x,v2);\n",
    "    pl.subplot(2,2,3);\n",
    "    pl.plot(x,dv1,label=error_1);\n",
    "    pl.legend(loc='upper right');\n",
    "    pl.subplot(2,2,4);\n",
    "    pl.plot(x,dv2,label=error_2);\n",
    "    pl.legend(loc='upper right');\n",
    "    pl.show();"
   ]
  },
  {
   "cell_type": "code",
   "execution_count": 6,
   "metadata": {},
   "outputs": [
    {
     "data": {
      "application/javascript": [
       "MathJax.Hub.Config({\n",
       "    TeX: { equationNumbers: { autoNumber: \"AMS\" } }\n",
       "});"
      ],
      "text/plain": [
       "<IPython.core.display.Javascript object>"
      ]
     },
     "metadata": {},
     "output_type": "display_data"
    }
   ],
   "source": [
    "%%javascript\n",
    "MathJax.Hub.Config({\n",
    "    TeX: { equationNumbers: { autoNumber: \"AMS\" } }\n",
    "});"
   ]
  }
 ],
 "metadata": {
  "kernelspec": {
   "display_name": "Python 3",
   "language": "python",
   "name": "python3"
  },
  "language_info": {
   "codemirror_mode": {
    "name": "ipython",
    "version": 3
   },
   "file_extension": ".py",
   "mimetype": "text/x-python",
   "name": "python",
   "nbconvert_exporter": "python",
   "pygments_lexer": "ipython3",
   "version": "3.6.3"
  }
 },
 "nbformat": 4,
 "nbformat_minor": 2
}
