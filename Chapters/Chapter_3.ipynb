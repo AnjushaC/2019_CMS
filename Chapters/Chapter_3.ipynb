{
 "cells": [
  {
   "cell_type": "code",
   "execution_count": 1,
   "metadata": {},
   "outputs": [],
   "source": [
    "%load_ext tikzmagic"
   ]
  },
  {
   "cell_type": "code",
   "execution_count": 2,
   "metadata": {},
   "outputs": [
    {
     "data": {
      "application/javascript": [
       "MathJax.Hub.Config({\n",
       "    TeX: { equationNumbers: { autoNumber: \"AMS\" } }\n",
       "});\n",
       "\n",
       "MathJax.Hub.Queue(\n",
       "  [\"resetEquationNumbers\", MathJax.InputJax.TeX],\n",
       "  [\"PreProcess\", MathJax.Hub],\n",
       "  [\"Reprocess\", MathJax.Hub]\n",
       ");"
      ],
      "text/plain": [
       "<IPython.core.display.Javascript object>"
      ]
     },
     "metadata": {},
     "output_type": "display_data"
    }
   ],
   "source": [
    "%%javascript\n",
    "MathJax.Hub.Config({\n",
    "    TeX: { equationNumbers: { autoNumber: \"AMS\" } }\n",
    "});\n",
    "\n",
    "MathJax.Hub.Queue(\n",
    "  [\"resetEquationNumbers\", MathJax.InputJax.TeX],\n",
    "  [\"PreProcess\", MathJax.Hub],\n",
    "  [\"Reprocess\", MathJax.Hub]\n",
    ");"
   ]
  },
  {
   "cell_type": "markdown",
   "metadata": {},
   "source": [
    "$\\newcommand{\\Zb}{\\mathbb{Z}}$\n",
    "$\\newcommand{\\Rb}{\\mathbb{R}}$\n",
    "$\\newcommand{\\Cb}{\\mathbb{C}}$\n",
    "$\\newcommand{\\dsum}{\\displaystyle\\sum}$\n",
    "$\\newcommand{\\bkt}[1]{\\left(#1\\right)}$\n",
    "\n",
    "# Periodic Grids: The DFT and FFT\n",
    "\n",
    "We now turn to spectral differentiation on a bounded, periodic grid. This process was stated in the form of an $N \\times N$ matrix operation in the first chapter. Whereas the last chapter dealt with the infinite matrix corresponding to the unbounded grid $h\\Zb$, this chapter develops a practical scheme for computation. Mathematically, there are close connections between the two schemes, and the derivation of our spectral method will follow the same pattern as before. The difference is that the semi-discrete Fourier transform is replaced by the discrete Fourier transform (DFT), which can be computed by the Fast Fourier Transform (FFT).\n",
    "\n",
    "At first sight, the requirement of periodicity may suggest that this method has limited relevance for practical problems. Yet periodic grids are surprisingly useful in practice. Often in scientific computing a phenomenon is of interest that is unrelated to boundaries, such as the interactin of solitons in the KdV equation or the behavior of homogeneous turbulence. For such problems, periodic boundary conditions often prove the best choice for computation. In addition, some geometries are physically periodic, such as crystal lattics or rows of turbine blades. Finally, even if the physics is not periodic, the coordinate space may be, as is the case for a $\\theta$ or $\\phi$ variable in a computation invovling polar or spherical coordinates (see Chapter $11$). Indeed, among the most common of all spectral methods are methods that mix periodic grids in one or two angular directions with non-periodic grids in one or two radial or longitudinal directions.\n",
    "\n",
    "Our basic periodic grid will be a subset of the interval $[0,2\\pi]$:"
   ]
  },
  {
   "cell_type": "code",
   "execution_count": 3,
   "metadata": {},
   "outputs": [
    {
     "data": {
      "image/png": "[encoded data removed]"
     },
     "metadata": {},
     "output_type": "display_data"
    }
   ],
   "source": [
    "%%tikz --scale=1\n",
    "\\draw (0,0) -- (10,0);\n",
    "\\foreach \\i in {0,1,...,10}{\n",
    "    \\draw [fill=black] (\\i,0) circle (0.1);\n",
    "};\n",
    "\\node at (0,0.4) {$0$};\n",
    "\\node at (1,-0.3) {$x_1$};\n",
    "\\node at (2,-0.3) {$x_2$};\n",
    "\\node at (5,0.4) {$\\pi$};\n",
    "\\node at (5,-0.3) {$x_{N/2}$};\n",
    "\\node at (10,-0.3) {$x_{N}$};\n",
    "\\node at (10,0.4) {$2\\pi$};"
   ]
  },
  {
   "cell_type": "markdown",
   "metadata": {},
   "source": [
    "Intervals of length other than $2\\pi$ are easily handled by a scale factor and translations to other intervals such as $\\left[-\\pi,\\pi\\right]$ make no difference at all. When we talk about a periodic grid, we mean that any data values on the grid come from evaluating a periodic function. Equivalently, we may regard the periodic grid as one cycle of length $N$ extracted from an infinite grid with data satisfying $v_{j+mN} = v_j$ for all $j,m \\in \\Zb$.\n",
    "\n",
    "Throughout the book, the number of grid points on a periodic grid will always be even. All our results have analogues for odd $N$, but the formulas are slightly different, and little would be gained by writing everything twice. The spacing of the grid points is $h=\\dfrac{2\\pi}N$, which gives us\n",
    "\n",
    "$$\\dfrac{\\pi}h = \\dfrac{N}2$$\n",
    "\n",
    "We recommend the reader memorize this equation. The quotient $\\pi/h$ will appear over and over, since $\\left[-\\dfrac{\\pi}h, \\dfrac{\\pi}h\\right]$ is the range of wavenumbers distinguishable on the grid. We will make constant use of the above equation.\n",
    "\n",
    "Let us consider the Fourier transform on the $N$-point grid. As in the last chapter, the mesh spacing $h$ implies that wavenumbers differing by an integer multiple of $2\\pi/h$ are indistinguishable on the grid, and thus it will be enough to confine our attention to $k \\in \\left[-\\pi/h,\\pi/h\\right]$. Now, however, the Fourier domain is discrete as well as bounded. This is because waves in physical space must be periodic over the interval $[0,2\\pi]$, and only waves $e^{ikx}$ with integer wavenumbers have the required period $2\\pi$. We find:\n",
    "\n",
    "\\begin{align*}\n",
    "\\text{Physical space} & : & \\text{discrete}, & \\text{bounded} & : & x \\in \\{h,2h,\\ldots,2\\pi-h,2\\pi\\}\\\\\n",
    "\\text{Fourier space} & : & \\text{bounded}, & \\text{discrete} & : & k \\in \\{-\\dfrac{N}2+1,-\\dfrac{N}2+2,\\ldots, \\dfrac{N}2\\}\n",
    "\\end{align*}\n",
    "\n",
    "The formula for the *discrete Fourier Transform (DFT)* is\n",
    "\n",
    "$$\\hat{v}_k = h \\dsum_{j=1}^N e^{-ikx_j} v_j, \\,\\,\\,\\, \\forall k \\in \\left\\{-\\dfrac{N}2+1, -\\dfrac{N}2+2, \\ldots, \\dfrac{N}2\\right\\}$$\n",
    "\n",
    "and the *inverse Fourier transform* is given by\n",
    "\n",
    "$$v_j = \\dfrac1{2\\pi} \\dsum_{-N/2+1}^{N/2} e^{ikx_j} \\hat{v}_k, \\,\\,\\,\\, \\forall j \\in \\{1,2,\\ldots,N\\}$$\n",
    "\n",
    "These formulas may be compared with the Formulas from the previous chapter for Fourier transform and its inverse and the semi-discrete Fourier transform and its inverse.\n",
    "\n",
    "In the formulas above, we see that the wavenumber $k$, like the spatial index $j$, takes only integer values. Nothing continuous or infinite is left in the problem, and we can easily check that the above two are inverses of one another for arbitrary vectors $\\bkt{v_1,v_2,\\ldots,v_N}^T \\in \\Rb^N$ or $\\Cb^N$, without *any technical restrictions*.\n",
    "\n",
    "For spectral differentiation of a grid function $v$, we follow the model of the last chapter exactly. First we need a band-limited interpolant of $v$, which we obtain by evaluating the inverse discrete Fourier transform for all $x$ rather than just on the grid. But before we differentiate our interpolant, there is a complication to address. Consider the saw-toothed function at the grid points $jh$, where $j \\in \\{1,2,\\ldots,N\\}$, such that $Nh=2\\pi$, i.e., the function is defined as $v_j = (-1)^j$. We get the Fourier transform as\n",
    "\n",
    "\\begin{align*}\n",
    "\\hat{v}_k & = h \\dsum_{j=1}^N e^{-ikx_j} \\bkt{-1}^j\\\\\n",
    "&= h\\bkt{e^{-2ikh}+e^{-4ikh}+\\cdots+e^{-Nikh}} - h\\bkt{e^{-ikh}+e^{-3ikh}+\\cdots+e^{-(N-1)ikh}}\\\\\n",
    "& = h\\bkt{e^{-2ikh}-e^{-ikh}} \\bkt{1+e^{-2ikh}+e^{-4ikh}+\\cdots+e^{-(N-2)ikh}}\n",
    "\\end{align*}\n",
    "\n",
    "We see that\n",
    "\n",
    "\\begin{align*}\n",
    "\\hat{v}_k = \\begin{cases}\n",
    "0 & \\text{ if }k \\in \\{-N/2+1,-N/2+2,\\ldots,N/2-1\\}\\\\\n",
    "hN = 2\\pi & \\text{ if }k=N/2\n",
    "\\end{cases}\n",
    "\\end{align*}\n",
    "\n",
    "This gives us\n",
    "\\begin{align*}\n",
    "v(x) = e^{iNx/2}\n",
    "\\end{align*}\n",
    "\n",
    "whose derivative is $v'(x) = iN/2 e^{iNx/2}$. We see that the interpolant and its derivative are a complex valued function! The problem is that the highest wave number is treated asymetrically. We can fix this by defining\n",
    "$$\\hat{v}_{-N/2} = \\hat{v}_{N/2}$$\n",
    "and defining\n",
    "\n",
    "$$v_j = \\dfrac1{2\\pi}\\tilde{\\dsum}_{k=-N/2}^{N/2} e^{ikx_j} \\hat{v}_k$$\n",
    "\n",
    "where the prime indicates that the terms $k=\\pm N/2$ are multiplied by $1/2$. Note that the discrete Fourier transform and its inverse can still be defined. But the above equation is needed just for the purpose of deriving a band-limited interpolant, which takes the form\n",
    "\n",
    "$$p(x) = \\dfrac1{2\\pi} \\tilde{\\dsum}_{-N/2}^{N/2} e^{ikx} \\hat{v}_k, \\,\\,\\,\\, \\forall x \\in [-\\pi/h,\\pi/h]$$\n",
    "\n",
    "and the sawtooth now has derivative zero as it should. "
   ]
  },
  {
   "cell_type": "code",
   "execution_count": 6,
   "metadata": {},
   "outputs": [
    {
     "data": {
      "application/vnd.jupyter.widget-view+json": {
       "model_id": "bae03ad1fcf946078e5f665e75829c13",
       "version_major": 2,
       "version_minor": 0
      },
      "text/plain": [
       "interactive(children=(IntSlider(value=10, description='N', max=16, min=4, step=2), Output()), _dom_classes=('w…"
      ]
     },
     "metadata": {},
     "output_type": "display_data"
    }
   ],
   "source": [
    "import pylab as pl\n",
    "import scipy as sp\n",
    "pi = sp.pi;\n",
    "n = 1000;\n",
    "from ipywidgets import interact\n",
    "xp = sp.linspace(0, 2*pi, n)\n",
    "@interact\n",
    "def plot_sawtooth(N=(4, 16, 2)):\n",
    "    h = 2*pi/N;\n",
    "    yp = sp.cos(pi*xp/h);\n",
    "    xg = sp.linspace(0,2*pi,N+1);\n",
    "    yg = sp.cos(pi*xg/h);\n",
    "    pl.plot(xp, yp);\n",
    "    pl.plot(xg, yg,'ro');\n",
    "    pl.show();"
   ]
  },
  {
   "cell_type": "markdown",
   "metadata": {},
   "source": [
    "Note that $p(x)$ is a *trigonometric polynomial* of degree at most $N/2$. This means that it can be written as a linear combination of the functions $1, \\sin(x), \\cos(x), \\sin(2x), \\cos(2x),\\ldots,\\sin(Nx/2), \\cos(Nx/2)$. (Actually, the $\\sin(Nx/2)$ term is not needed.)\n",
    "\n",
    "To interpolate a grid function $v$, as in the previous chapter, we can use this general formula, or we can compute the band-limited interpolant of the delta function and expand $v$ as a linear combination of translated delta functions. The delta function is now periodic.\n",
    "\n",
    "\\begin{align*}\n",
    "\\delta_j = \\begin{cases}\n",
    "1 & j \\equiv 0 \\pmod{N}\\\\\n",
    "0 & j \\not\\equiv 0 \\pmod{N}\n",
    "\\end{cases}\n",
    "\\end{align*}\n",
    "\n",
    "We get that $\\hat{\\delta}_k = h$ for each $k$. Hence, we get the interpolant for the $\\delta$ function to be\n",
    "\n",
    "\\begin{align*}\n",
    "p(x) & = \\dfrac{h}{2\\pi} \\bkt{\\dfrac{e^{iNx/2}+e^{-iNx/2}}2 + \\dsum_{k=-N/2+1}^{N/2-1} e^{ikx}}\\\\\n",
    "& = \\dfrac{\\sin\\bkt{\\pi x/h}}{\\bkt{2\\pi/h} \\tan\\bkt{x/2}}\n",
    "\\end{align*}\n",
    "\n",
    "Hence, we see that the band-limited interpolant to $\\delta$ is the *periodic sinc function* $S_N$, i.e.,\n",
    "\n",
    "$$S_N(x) = \\dfrac{\\sin\\bkt{\\pi x/h}}{\\bkt{2\\pi/h} \\tan\\bkt{x/2}}$$\n",
    "\n",
    "Note that for $x \\to 0$, we have $\\tan(x/2) \\sim x/2$, and hence $S_N(x)$ behaves like the non-periodic sinc function $S_h(x)$ in the limit as $x \\to 0$ independently of $h$."
   ]
  },
  {
   "cell_type": "code",
   "execution_count": 27,
   "metadata": {},
   "outputs": [
    {
     "data": {
      "application/vnd.jupyter.widget-view+json": {
       "model_id": "d78ced8b75b64dc2bf3c3e47a07ea6c4",
       "version_major": 2,
       "version_minor": 0
      },
      "text/plain": [
       "interactive(children=(IntSlider(value=8, description='N', max=12, min=4, step=2), Output()), _dom_classes=('wi…"
      ]
     },
     "metadata": {},
     "output_type": "display_data"
    }
   ],
   "source": [
    "import pylab as pl\n",
    "import scipy as sp\n",
    "pi = sp.pi;\n",
    "n = 1000;\n",
    "from ipywidgets import interact\n",
    "xp = sp.linspace(-pi, 3*pi, 2*n+1)\n",
    "@interact\n",
    "def plot_periodic_sinc(N=(4, 12, 2)):\n",
    "    h   = 2*pi/N;\n",
    "    yp = sp.sin(pi*xp/h)/(2*sp.pi/h*sp.tan(xp/2));\n",
    "    xg = sp.linspace(-pi,3*pi,2*N+1);\n",
    "    yg = sp.sin(pi*xg/h)/(2*sp.pi/h*sp.tan(xg/2));\n",
    "    yg[sp.isnan(yg)]=1;\n",
    "    pl.plot(xp, yp);\n",
    "    pl.plot(xg, yg,'ro');\n",
    "    pl.show();"
   ]
  },
  {
   "cell_type": "code",
   "execution_count": null,
   "metadata": {},
   "outputs": [],
   "source": []
  }
 ],
 "metadata": {
  "kernelspec": {
   "display_name": "Python 3",
   "language": "python",
   "name": "python3"
  },
  "language_info": {
   "codemirror_mode": {
    "name": "ipython",
    "version": 3
   },
   "file_extension": ".py",
   "mimetype": "text/x-python",
   "name": "python",
   "nbconvert_exporter": "python",
   "pygments_lexer": "ipython3",
   "version": "3.6.6"
  }
 },
 "nbformat": 4,
 "nbformat_minor": 2
}
