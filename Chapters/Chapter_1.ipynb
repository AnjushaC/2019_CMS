{
 "cells": [
  {
   "cell_type": "markdown",
   "metadata": {},
   "source": [
    "# Differentiation Matrices"
   ]
  },
  {
   "cell_type": "code",
   "execution_count": 1,
   "metadata": {},
   "outputs": [],
   "source": [
    "%load_ext tikzmagic"
   ]
  },
  {
   "cell_type": "code",
   "execution_count": 2,
   "metadata": {},
   "outputs": [
    {
     "data": {
      "application/javascript": [
       "MathJax.Hub.Config({\n",
       "    TeX: { equationNumbers: { autoNumber: \"AMS\" } }\n",
       "});\n",
       "\n",
       "MathJax.Hub.Queue(\n",
       "  [\"resetEquationNumbers\", MathJax.InputJax.TeX],\n",
       "  [\"PreProcess\", MathJax.Hub],\n",
       "  [\"Reprocess\", MathJax.Hub]\n",
       ");"
      ],
      "text/plain": [
       "<IPython.core.display.Javascript object>"
      ]
     },
     "metadata": {},
     "output_type": "display_data"
    }
   ],
   "source": [
    "%%javascript\n",
    "MathJax.Hub.Config({\n",
    "    TeX: { equationNumbers: { autoNumber: \"AMS\" } }\n",
    "});\n",
    "\n",
    "MathJax.Hub.Queue(\n",
    "  [\"resetEquationNumbers\", MathJax.InputJax.TeX],\n",
    "  [\"PreProcess\", MathJax.Hub],\n",
    "  [\"Reprocess\", MathJax.Hub]\n",
    ");"
   ]
  },
  {
   "cell_type": "markdown",
   "metadata": {},
   "source": [
    "$\\newcommand{\\bkt}[1]{\\left(#1\\right)}$\n",
    "$\\newcommand{\\abs}[1]{\\left\\lvert#1\\right\\rvert}$\n",
    "   Our starting point is a basic question. Given a set of grid points $\\left\\{x_j\\right\\}$ and corresponding function values $\\left\\{u\\bkt{x_j} \\right\\}$, how can we use this data to approximate the derivative of $u$? Probably the method that immediately springs to mind is some kind of finite difference formula. It is through finite differences that we shall motivate spectral methods.\n",
    "   \n",
    "   To be specific, consider a uniform grid $\\left\\{x_1,x_2,\\ldots,x_N \\right\\}$, with $x_{j+1}-x_j = h$ for each $j \\in \\left\\{1,2,\\ldots,N-1 \\right\\}$, and a set of corresponding data values $\\left\\{u_1,u_2,\\ldots,u_N \\right\\}$."
   ]
  },
  {
   "cell_type": "code",
   "execution_count": 3,
   "metadata": {},
   "outputs": [
    {
     "data": {
      "image/png": "[encoded data removed]"
     },
     "metadata": {},
     "output_type": "display_data"
    }
   ],
   "source": [
    "%%tikz --scale=0.5\n",
    "\\draw (0,0) -- (10,0);\n",
    "\\foreach \\i in {0,1,...,10}{\n",
    "    \\draw [fill=black] (\\i,0) circle (0.1);\n",
    "}\n",
    "\\node at (0,-0.5) {$x_0$};\n",
    "\\node at (1,-0.5) {$x_1$};\n",
    "\\node at (10,-0.5) {$x_{N}$};\n",
    "\\node at (0,0.5) {$u_0$};\n",
    "\\node at (1,0.5) {$u_1$};\n",
    "\\node at (10,0.5) {$u_{N}$};"
   ]
  },
  {
   "cell_type": "markdown",
   "metadata": {},
   "source": [
    "Let $w_j$ denote the approximation to $u'\\bkt{x_j}$, the derivative of $u$ at $x_j$. The standard second-order finite difference approximation is\n",
    "\n",
    "\\begin{align}\n",
    "w_j = \\dfrac{u_{j+1}-u_{j-1}}{2h}\n",
    "\\label{eqn_central_difference}\n",
    "\\end{align}\n",
    "\n",
    "which can be derived by considering the Taylor expansions of $u\\bkt{x_{j+1}}$ and $u\\bkt{x_{j-1}}$. For simplicity, let us assume that the problem is periodic and take $u_0=u_N$ and $u_1=u_{N+1}$. Then we can represent the discrete differentiation process as a matrix-vector multiplication,\n",
    "\n",
    "\\begin{align}\n",
    "\\begin{bmatrix}\n",
    "w_1\\\\\n",
    "w_2\\\\\n",
    "w_3\\\\\n",
    "\\vdots\\\\\n",
    "w_{N-2}\\\\\n",
    "w_{N-1}\\\\\n",
    "w_N\n",
    "\\end{bmatrix}\n",
    "=\\dfrac1h\n",
    "\\begin{bmatrix}\n",
    "0 & 1/2 & 0 & \\cdots & 0 & 0 & -1/2\\\\\n",
    "-1/2 & 0 & 1/2 & \\cdots & 0 & 0 & 0\\\\\n",
    "0 & -1/2 & 0 & \\cdots & 0 & 0 & 0\\\\\n",
    "\\vdots & \\vdots & \\vdots & \\ddots & \\vdots & \\vdots & \\vdots\\\\\n",
    "0 & 0 & 0 & \\cdots & 0 & 1/2 & 0\\\\\n",
    "0 & 0 & 0 & \\cdots & -1/2 & 0 & 1/2\\\\\n",
    "1/2 & 0 & 0 & \\cdots & 0 & -1/2 & 0\\\\\n",
    "\\end{bmatrix}\n",
    "\\begin{bmatrix}\n",
    "u_1\\\\\n",
    "u_2\\\\\n",
    "u_3\\\\\n",
    "\\vdots\\\\\n",
    "u_{N-2}\\\\\n",
    "u_{N-1}\\\\\n",
    "u_N\n",
    "\\end{bmatrix}\n",
    "\\label{eqn_central_difference_matrix}\n",
    "\\end{align}\n",
    "\n",
    "Most of the entries are zero with the super-diagonal being $1/2$ and sub-diagonal being $-1/2$. Since, we have assumed that the function is periodic, we also have $1/2$ appearing on the left bottom of the matrix and $-1/2$ appearing on the right top of the matrix.\n",
    "\n",
    "Observe that the matrix is a Topelitz matrix, i.e., the entries along each diagonal are the same, i.e., $A_{i,j}$ only depends on $i-j$. In fact, it is also ***circulant***, meaning $A_{i,j}$ only depends on $\\bkt{i-j}\\bmod N$. The diagonals \"wrap around\" the matrix.\n",
    "\n",
    "   An alternative way to derive \\ref{eqn_central_difference} and \\ref{eqn_central_difference_matrix} is by the following process of local interpolation and differentiation.\n",
    "\n",
    "   For $j=1,2,\\ldots,N$\n",
    "    <li>Let $p_j$ be the unique polynomial of degree $\\leq 2$ with $p_j\\bkt{x_{j-1}} = u_{j-1}$, $p_j\\bkt{x_j} = u_j$ and $p_j\\bkt{x_{j+1}} = u_{j+1}$</li>\n",
    "    <li>Set $w_j = p_j'\\bkt{x_j}$\n",
    "\n",
    "It is easily seen that, for a fixed $j$, the interpolanat $p_j$ is given by\n",
    "$$p_j(x) = u_{j-1}a_{-1}(x) + u_{j}a_{0}(x) + u_{j+1}a_{1}(x)$$\n",
    "where\n",
    "$$a_{-1}(x) = \\dfrac{\\bkt{x-x_j}\\bkt{x-x_{j+1}}}{2h^2}$$\n",
    "$$a_{0}(x) = -\\dfrac{\\bkt{x-x_{j-1}}\\bkt{x-x_{j+1}}}{h^2}$$\n",
    "$$a_{1}(x) = \\dfrac{\\bkt{x-x_{j-1}}\\bkt{x-x_{j}}}{2h^2}$$\n",
    "Differentiating $p_j(x)$ and evaluating at $x=x_j$ gives us \\ref{eqn_central_difference}\n",
    "\n",
    "The above derivation by local interpolation makes it clear how we can generalize to higher orders. Here is the fourth order analogue:\n",
    "\n",
    "For $j=1,2,\\ldots,N$\n",
    "<li>Let $p_j$ be the unique polynomial of degree $\\leq 4$ with $p_j\\bkt{x_{j\\pm2}} = u_{j \\pm 2}$, $p_j\\bkt{x_{j\\pm1}} = u_{j \\pm 1}$ and $p_j\\bkt{x_{j}} = u_{j}$.</li>\n",
    "<li>Set $w_j = p_j'\\bkt{x_j}$</li>\n",
    "\n",
    "Again assuming periodicity of the data, it can be shown that this prescription amounts to the matrix-vector product\n",
    "\n",
    "\\begin{align}\n",
    "\\begin{bmatrix}\n",
    "w_1\\\\\n",
    "w_2\\\\\n",
    "w_3\\\\\n",
    "\\vdots\\\\\n",
    "w_{N-2}\\\\\n",
    "w_{N-1}\\\\\n",
    "w_N\n",
    "\\end{bmatrix}\n",
    "=\\dfrac1h\n",
    "\\begin{bmatrix}\n",
    "0 & 2/3 & -1/12 & \\cdots & 0 & 1/12 & -2/3\\\\\n",
    "-2/3 & 0 & 2/3 & \\cdots & 0 & 0 & 1/12\\\\\n",
    "1/12 & -2/3 & 0 & \\cdots & 0 & 0 & 0\\\\\n",
    "\\vdots & \\vdots & \\vdots & \\ddots & \\vdots & \\vdots & \\vdots\\\\\n",
    "0 & 0 & 0 & \\cdots & 0 & 2/3 & -1/12\\\\\n",
    "-1/12 & 0 & 0 & \\cdots & -2/3 & 0 & 2/3\\\\\n",
    "2/3 & -1/12 & 0 & \\cdots & 1/12 & -2/3 & 0\\\\\n",
    "\\end{bmatrix}\n",
    "\\begin{bmatrix}\n",
    "u_1\\\\\n",
    "u_2\\\\\n",
    "u_3\\\\\n",
    "\\vdots\\\\\n",
    "u_{N-2}\\\\\n",
    "u_{N-1}\\\\\n",
    "u_N\n",
    "\\end{bmatrix}\n",
    "\\label{eqn_fourth_order_central_difference_matrix}\n",
    "\\end{align}\n",
    "\n",
    "This time we have a pentadiagonal instead of a tridiagonal circulant matrix.\n",
    "\n",
    "The matrices in \\ref{eqn_central_difference_matrix} and \\ref{eqn_fourth_order_central_difference_matrix} are examples of ***differentiation matrices***. They have order of accuracy two and four, respectively. That is, for data $u_j$ obtained by sampling a sufficiently smooth function $u$, the corresponding discrete approximations to $u'\\bkt{x_j}$ will converge at the rates $\\mathcal{O}\\bkt{h^2}$ and $\\mathcal{O}\\bkt{h^4}$ as $h \\to 0$, respectively. One can verify this by considering the Taylor series.\n",
    "\n",
    "Our first Python program, Program 1, illustrates the behavior of \\ref{eqn_central_difference_matrix} and our second program, Program 2, illustrates the behavior of \\ref{eqn_fourth_order_central_difference_matrix}. We consider the function $u(x) = e^{\\sin(x)}$ to give a periodic data on the domain $[-\\pi,\\pi]$, i.e., $x_j = -\\pi + \\dfrac{2\\pi j}{N}$."
   ]
  },
  {
   "cell_type": "code",
   "execution_count": 4,
   "metadata": {},
   "outputs": [
    {
     "data": {
      "image/png": "[encoded data removed]"
     },
     "metadata": {},
     "output_type": "display_data"
    }
   ],
   "source": [
    "%%tikz --scale=0.5\n",
    "\\draw (0,0) -- (12,0);\n",
    "\\foreach \\i in {0,1,...,12}{\n",
    "    \\draw [fill=black] (\\i,0) circle (0.1);\n",
    "}\n",
    "\\node at (0,-0.5) {$-\\pi$};\n",
    "\\node at (1,-0.5) {$x_1$};\n",
    "\\node at (2,-0.5) {$x_2$};\n",
    "\\node at (12,-0.5) {$\\pi$};"
   ]
  },
  {
   "cell_type": "markdown",
   "metadata": {},
   "source": [
    "   The program compares the finite difference approximation $w_j$ with the exact derivative, $e^{\\sin\\bkt{x_j}} \\cos\\bkt{x_j}$, for various values of $N$. Because it makes use of sparse matrix arithemtics, this code runs fast, even though it manipulates matrices of dimensions as large as $4096$. The results are presented in Output $1$ and Output $2$. The corresponding orders of accuracy are apparent. These will be our first and last example that does not illustrate a spectral method!"
   ]
  },
  {
   "cell_type": "code",
   "execution_count": 13,
   "metadata": {},
   "outputs": [
    {
     "data": {
      "image/png": "[encoded data removed]",
      "text/plain": [
       "<Figure size 432x288 with 1 Axes>"
      ]
     },
     "metadata": {
      "needs_background": "light"
     },
     "output_type": "display_data"
    }
   ],
   "source": [
    "# Program 1\n",
    "# Accuracy of second order central difference for various N, set up grid in $[-\\pi,\\pi]$ and function u(x):\n",
    "import scipy as sp\n",
    "from scipy import sparse\n",
    "from scipy.linalg import circulant\n",
    "n      = 2**sp.arange(3,16);\n",
    "error = sp.zeros(sp.size(n));\n",
    "for k in range(0,sp.size(n)):\n",
    "    N           = n[k];\n",
    "    h           = 2*sp.pi/N;\n",
    "    x           = -sp.pi+sp.arange(1,N+1)*h;\n",
    "    u           = sp.exp(sp.sin(x));\n",
    "    uprime      = sp.cos(x)*u;\n",
    "    v           = sp.zeros(N);\n",
    "    v[1]        = -1/2;\n",
    "    v[-1]       = 1/2;\n",
    "    D           = sparse.csr_matrix(circulant(v));\n",
    "    du          = D.dot(u)/h;\n",
    "    error[k]  = sp.amax(du-uprime);\n",
    "\n",
    "import matplotlib.pyplot as plt\n",
    "plt.loglog(n,error,'+', label='Error')\n",
    "plt.loglog(n,1/n**2,'-', label='h^2')\n",
    "plt.xlabel('Number of points');\n",
    "plt.ylabel('Error');\n",
    "plt.legend();\n",
    "plt.title('Second order convergence of the finite difference');\n",
    "plt.show()"
   ]
  },
  {
   "cell_type": "code",
   "execution_count": 12,
   "metadata": {},
   "outputs": [
    {
     "data": {
      "image/png": "[encoded data removed]",
      "text/plain": [
       "<Figure size 432x288 with 1 Axes>"
      ]
     },
     "metadata": {
      "needs_background": "light"
     },
     "output_type": "display_data"
    }
   ],
   "source": [
    "# Program 2\n",
    "# Accuracy of fourth order central difference for various N, set up grid in $[-\\pi,\\pi]$ and function u(x):\n",
    "import scipy as sp\n",
    "from scipy import sparse\n",
    "from scipy.linalg import circulant\n",
    "n      = 2**sp.arange(3,16);\n",
    "error = sp.zeros(sp.size(n));\n",
    "for k in range(0,sp.size(n)):\n",
    "    N           = n[k];\n",
    "    h           = 2*sp.pi/N;\n",
    "    x           = -sp.pi+sp.arange(1,N+1)*h;\n",
    "    u           = sp.exp(sp.sin(x));\n",
    "    uprime   = sp.cos(x)*u;\n",
    "    v           = sp.zeros(N);\n",
    "    v[1]       = -8;\n",
    "    v[-1]      = 8;\n",
    "    v[2]       = 1;\n",
    "    v[-2]      = -1;\n",
    "    D           = sparse.csr_matrix(circulant(v));\n",
    "    du          = D.dot(u)/12/h;\n",
    "    error[k]  = sp.amax(du-uprime);\n",
    "\n",
    "import matplotlib.pyplot as plt\n",
    "plt.loglog(n,error,'+', label='Error')\n",
    "plt.loglog(n,1/n**4,'-', label='h^4')\n",
    "plt.xlabel('Number of points');\n",
    "plt.ylabel('Error');\n",
    "plt.legend();\n",
    "plt.title('Second order convergence of the finite difference');\n",
    "plt.show()"
   ]
  },
  {
   "cell_type": "markdown",
   "metadata": {},
   "source": [
    "We have looked at second and fourth order finite differences, and it is clear that consideration of sixth, eigth and higher order schemes will again lead to circulant matrices of increasing bandwidth. The idea behind spectral methods is to take this process to the limit, at least in principle, and work with a differentiation formula of infinite order and infinite bandwidth, i.e., a dense matrix. In the next chapter, we shall show that in this limit, for an infinite equispaced grid, one obtains the following infinite differentiation matrix whose entries are given by\n",
    "    \\begin{align}\n",
    "        D_{ij} & = \\begin{cases}\n",
    "        \\dfrac1h\\dfrac{{(-1)}^{i-j}}{i-j} & \\text{if }i \\neq j\\\\\n",
    "        0 & \\text{if }i=j\n",
    "        \\end{cases}\n",
    "    \\end{align}\n",
    "\n",
    "This is a skew symmetric (i.e., $D^T = D$) double infinite Toeplitz matrix, also known as a ***Laurent operator***. All its entries are non-zero except on the main diagonal.\n",
    "\n",
    "   Of course, in practice one does not work with an infinite matrix. For a finite grid, here is the design principle for spectral collocation methods:\n",
    "\n",
    "<li> Let $p$ be a single function (independent of $j$) such that $p(x_j) = u_j$ for all $j$. </li>\n",
    "<li> Set $w_j = p'(x_j)$ </li>\n",
    "\n",
    "We are free to choose $p$ to fite the problem at hand. For a periodic domain, the natural choice is a trigonometric polynomial on an equispaced grid, and the resulting \"Fourier\" methods will be our concern through Chapter $4$ and intermittently in later chapters. For non-periodic domains, algebraic polynomials on irregular grids are the right choice, and we will describe the \"Chebyshev\" methods of this type beginning in Chapters 5 and 6.\n",
    "\n",
    "For finite $N$, taking $N$ even for simplicity, here is the $N \\times N$ dense matrix, we will derive in Chapter $3$ for a periodic, regular grid:\n",
    "\n",
    "\\begin{align}\n",
    "D_N(i,j) & = \\begin{cases}\n",
    "\\bkt{-1}^{i-j} \\dfrac12 \\cot \\bkt{\\dfrac{(i-j)h}2} & \\text{if } i \\neq j\\\\\n",
    "0 & \\text{if }i=j\n",
    "\\end{cases}\n",
    "\\end{align}\n",
    "\n",
    "A little manipulation of the cotangent function function appearing above reveals that this matrix is indeed circulant as well as Toeplitz."
   ]
  },
  {
   "cell_type": "code",
   "execution_count": 8,
   "metadata": {
    "scrolled": true
   },
   "outputs": [
    {
     "data": {
      "image/png": "[encoded data removed]",
      "text/plain": [
       "<Figure size 432x288 with 1 Axes>"
      ]
     },
     "metadata": {
      "needs_background": "light"
     },
     "output_type": "display_data"
    }
   ],
   "source": [
    "# Program 3\n",
    "# Accuracy of the periodic spectral method for various N, set up grid in $[-\\pi,\\pi]$ and function u(x):\n",
    "import scipy as sp\n",
    "from scipy import linalg\n",
    "n      = sp.arange(10,30,2);\n",
    "error = sp.zeros(sp.size(n));\n",
    "for k in range(0,sp.size(n)):\n",
    "    N           = n[k];\n",
    "    h           = 2*sp.pi/N;\n",
    "    x           = -sp.pi+sp.arange(1,N+1)*h;\n",
    "#     u           = sp.exp(sp.sin(x));\n",
    "    u        = sp.cos(8*x);\n",
    "    uprime      = -8*sp.sin(8*x);\n",
    "    vec           = sp.zeros(N);\n",
    "    vec[1:N]   = (-1)**sp.arange(1,N)/sp.tan(sp.arange(1,N)*h/2);\n",
    "    D           = sp.linalg.circulant(vec);\n",
    "    du          = 0.5*D.dot(u);\n",
    "    error[k]    = sp.amax(du-uprime);\n",
    "\n",
    "import matplotlib.pyplot as plt\n",
    "plt.semilogy(n,error,'+', label='Error')\n",
    "plt.xlabel('Number of points');\n",
    "plt.ylabel('Error');\n",
    "plt.legend();\n",
    "plt.title('Convergence of spectral derivative');\n",
    "plt.show();"
   ]
  },
  {
   "cell_type": "markdown",
   "metadata": {},
   "source": [
    "Note the \"spectral accuracy\" of the spectral method above, until the rounding errors take over around $10^{-14}$. Now the matrices are dense, but the values of $N$ are much smaller than the previous program. We hit machine precision accuracy with just around $30$ points.\n",
    "\n",
    "The program above is almost the same as the previous two except on one line where the differentiation matrix definition has been changed. What a difference it makes in the results! The errors in the ouput decrease extremely rapidly until such high precision is achieved that the rounding errors on the computer prevent any further improvement (all calculations are done in standard IEEE double precision arithmetic with $\\epsilon_{\\text{machine}} = 2^{-53} \\approx 1.11 \\times 10^{-16}$. This means that each addition, multiplication, division and subtraction produces the exactly correct result times some factor $1+\\delta$ with $\\abs{\\delta} \\leq \\epsilon_{\\text{machine}}$.\n",
    "\n",
    "This remarkable behavior is called ***spectral accuracy***. We wil give this phrase some precision in Chapter $4$, but for the moment, the point to note is how different it is from convergence rates for finite difference and finite element methods. As $N$ increases, the error in a finite difference or finite element schemes typically decreases like $\\mathcal{O}\\bkt{N^{-m}}$ for some constant $m$ that depends on the order of approximation and smoothness of the solution. For a spectral method, convergence at the rate $\\mathcal{O}\\bkt{N^{-m}}$ for ***every*** $m$ is achieved, provided the solution is infinitely differentiable, and even fast convergence at a rate $\\mathcal{O}\\bkt{c^N}$, where $0 < c < 1$, is achieved if the solution is suitably analytic.\n",
    "\n",
    "The matrices we have described have been circulant. The action of a circulant matrix is a convolution, and as we shall see in Chapter $3$, convolutions can be computed using a discrete Fourier Transform. Histrocially, it was the discovery of the Fast Fourier Transform (FFT) for such problems in $1965$ that led to the surge of interest in spectral methods in the $1970$'s. We shall in Chapter $8$ that the FFT is applicable not only to trigonometric polynomials on equispaced grids, but also to algebraic polynomials on Chebyshev grids. Yet spectral methods implemented without FFT are powerful, too, and in many applications, it is quite satisfactory to work with explicit matrices. Most problems in this book are solved via matrices."
   ]
  },
  {
   "cell_type": "markdown",
   "metadata": {},
   "source": [
    "## Summary of this chapter:\n",
    "\n",
    "The fundamental principle of spectral collocation methods, is given discrete data on a grid, interpolate the data globally, then evaluate the derivative of the interpolant on the grid. For periodic problems, we normally use trigonometric interpolants in equispaced points, and for non-periodic problems, we normally use polynomial interpolants in unevenly spaced points."
   ]
  }
 ],
 "metadata": {
  "kernelspec": {
   "display_name": "Python 3",
   "language": "python",
   "name": "python3"
  },
  "language_info": {
   "codemirror_mode": {
    "name": "ipython",
    "version": 3
   },
   "file_extension": ".py",
   "mimetype": "text/x-python",
   "name": "python",
   "nbconvert_exporter": "python",
   "pygments_lexer": "ipython3",
   "version": "3.6.6"
  }
 },
 "nbformat": 4,
 "nbformat_minor": 2
}
