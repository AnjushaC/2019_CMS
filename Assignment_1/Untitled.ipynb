{
 "cells": [
  {
   "cell_type": "markdown",
   "metadata": {
    "nbgrader": {
     "grade": false,
     "grade_id": "Exercise1.1",
     "locked": true,
     "schema_version": 1,
     "solution": false
    }
   },
   "source": [
    "We derived the entries of the tridiagonal circulant matrix by local polynomial interpolation. Derive the entries of the pentadiagonal circulant matrix in the same manner."
   ]
  },
  {
   "cell_type": "code",
   "execution_count": null,
   "metadata": {
    "nbgrader": {
     "grade": true,
     "grade_id": "Solution1.1",
     "locked": false,
     "points": 0,
     "schema_version": 1,
     "solution": true
    }
   },
   "outputs": [],
   "source": []
  },
  {
   "cell_type": "markdown",
   "metadata": {
    "nbgrader": {
     "grade": false,
     "grade_id": "cell-287d81585ee233af",
     "locked": true,
     "schema_version": 1,
     "solution": false
    }
   },
   "source": [
    "$\\newcommand{\\bkt}[1]{\\left(#1\\right)}$\n",
    "Show that the matrix dense matrix\n",
    "\\begin{align}\n",
    "D_N(i,j) & = \\begin{cases}\n",
    "\\bkt{-1}^{i-j} \\dfrac12 \\cot \\bkt{\\dfrac{(i-j)h}2} & \\text{if } i \\neq j\\\\\n",
    "0 & \\text{if }i=j\n",
    "\\end{cases}\n",
    "\\end{align}\n",
    "is circulant."
   ]
  },
  {
   "cell_type": "code",
   "execution_count": null,
   "metadata": {},
   "outputs": [],
   "source": []
  }
 ],
 "metadata": {
  "celltoolbar": "Create Assignment",
  "kernelspec": {
   "display_name": "Python 3",
   "language": "python",
   "name": "python3"
  },
  "language_info": {
   "codemirror_mode": {
    "name": "ipython",
    "version": 3
   },
   "file_extension": ".py",
   "mimetype": "text/x-python",
   "name": "python",
   "nbconvert_exporter": "python",
   "pygments_lexer": "ipython3",
   "version": "3.6.6"
  }
 },
 "nbformat": 4,
 "nbformat_minor": 2
}
