{
 "cells": [
  {
   "cell_type": "markdown",
   "metadata": {},
   "source": [
    "# Introduction to Python:\n",
    "\n",
    "- How are python files run(What are the different methods of running a python program):\n",
    "- The usuals: how variables are named\n",
    "- Introduction to modules\n",
    "- Viewing contents of a module\n"
   ]
  },
  {
   "cell_type": "markdown",
   "metadata": {},
   "source": [
    "## How run Python files:\n",
    "\n",
    "To run a defined file from the commandline, we use:\n",
    "```\n",
    "$ python myprogram.py\n",
    "```\n",
    "We can also interactively run code as seen over here / shell."
   ]
  },
  {
   "cell_type": "code",
   "execution_count": 1,
   "metadata": {},
   "outputs": [
    {
     "name": "stdout",
     "output_type": "stream",
     "text": [
      "Hello World! 1\n"
     ]
    }
   ],
   "source": [
    "a = 1\n",
    "print(\"Hello World!\", a)"
   ]
  },
  {
   "cell_type": "code",
   "execution_count": 2,
   "metadata": {},
   "outputs": [
    {
     "name": "stdout",
     "output_type": "stream",
     "text": [
      "Writing helloworld.py\n"
     ]
    }
   ],
   "source": [
    "%%file helloworld.py\n",
    "print(\"Hello World!\")"
   ]
  },
  {
   "cell_type": "code",
   "execution_count": 3,
   "metadata": {},
   "outputs": [
    {
     "name": "stdout",
     "output_type": "stream",
     "text": [
      "Hello World!\r\n"
     ]
    }
   ],
   "source": [
    "!python helloworld.py"
   ]
  },
  {
   "cell_type": "markdown",
   "metadata": {},
   "source": [
    "## How variable are named:\n",
    "\n",
    "The usual conventions: i.e needs to start with an alphabet, and only special character allowed is underscore(_). The following are reserved keywords:\n",
    "\n",
    "```\n",
    "and, as, assert, break, class, continue, def, del, elif, else, except, \n",
    "exec, finally, for, from, global, if, import, in, is, lambda, not, or,\n",
    "pass, print, raise, return, try, while, with, yield\n",
    "```\n"
   ]
  },
  {
   "cell_type": "markdown",
   "metadata": {},
   "source": [
    "## Variable Assignment:\n",
    "\n",
    "Python is dynamically typed. So there is no need to declare the type of the variable before use."
   ]
  },
  {
   "cell_type": "code",
   "execution_count": 4,
   "metadata": {},
   "outputs": [
    {
     "name": "stdout",
     "output_type": "stream",
     "text": [
      "1 2 3\n",
      "<class 'int'>\n",
      "<class 'int'>\n",
      "<class 'int'>\n",
      "<class 'float'>\n",
      "<class 'float'>\n",
      "<class 'float'>\n"
     ]
    }
   ],
   "source": [
    "x = 1\n",
    "y = 2\n",
    "z = x + y\n",
    "\n",
    "print(x, y, z)\n",
    "\n",
    "# Now if I print the type of the variable x, y and z\n",
    "print(type(x))\n",
    "print(type(y))\n",
    "print(type(z))\n",
    "\n",
    "# Using a decimal point makes it float\n",
    "x = 1.\n",
    "y = 2.\n",
    "z = x + y\n",
    "\n",
    "print(type(x))\n",
    "print(type(y))\n",
    "print(type(z))"
   ]
  },
  {
   "cell_type": "markdown",
   "metadata": {},
   "source": [
    "## Modules\n",
    "\n",
    "Most of the functionality in Python is provided by modules. Modules are basically just another pre-defined file that is imported"
   ]
  },
  {
   "cell_type": "code",
   "execution_count": 7,
   "metadata": {},
   "outputs": [
    {
     "name": "stdout",
     "output_type": "stream",
     "text": [
      "0.5000000000000001\n",
      "0.5000000000000001\n",
      "0.5000000000000001 0.8660254037844386 1.7320508075688767\n"
     ]
    }
   ],
   "source": [
    "# Different way of importing:\n",
    "import math\n",
    "x = math.cos(1/3 * math.pi)\n",
    "print(x)\n",
    "\n",
    "from math import cos, pi\n",
    "x = cos(1/3 * pi)\n",
    "print(x)\n",
    "\n",
    "# LEAST RECOMMENDED!!\n",
    "from math import *\n",
    "x = cos(1/3 * pi)\n",
    "y = sin(1/3 * pi)\n",
    "z = tan(1/3 * pi)\n",
    "print(x, y, z)"
   ]
  },
  {
   "cell_type": "code",
   "execution_count": 8,
   "metadata": {},
   "outputs": [
    {
     "name": "stdout",
     "output_type": "stream",
     "text": [
      "['__doc__', '__file__', '__loader__', '__name__', '__package__', '__spec__', 'acos', 'acosh', 'asin', 'asinh', 'atan', 'atan2', 'atanh', 'ceil', 'copysign', 'cos', 'cosh', 'degrees', 'e', 'erf', 'erfc', 'exp', 'expm1', 'fabs', 'factorial', 'floor', 'fmod', 'frexp', 'fsum', 'gamma', 'gcd', 'hypot', 'inf', 'isclose', 'isfinite', 'isinf', 'isnan', 'ldexp', 'lgamma', 'log', 'log10', 'log1p', 'log2', 'modf', 'nan', 'pi', 'pow', 'radians', 'sin', 'sinh', 'sqrt', 'tan', 'tanh', 'tau', 'trunc']\n"
     ]
    }
   ],
   "source": [
    "# What if I want to see what all is contained in a particular module:\n",
    "print(dir(math))\n",
    "# print(dir(np))"
   ]
  },
  {
   "cell_type": "code",
   "execution_count": 9,
   "metadata": {
    "collapsed": true
   },
   "outputs": [],
   "source": [
    "# What if I want to see the purpose of one of these functions, lets say trunc\n",
    "trunc?\n",
    "# accessible since from math import * was done in an earlier cell"
   ]
  },
  {
   "cell_type": "code",
   "execution_count": null,
   "metadata": {},
   "outputs": [],
   "source": [
    "# Types in python:\n",
    "x = 1\n",
    "print(type(x))\n",
    "x = True\n",
    "print(type(x))\n",
    "x = 1.\n",
    "print(type(x))\n",
    "x = 'one'\n",
    "print(type(x))\n",
    "x = 1 + 0j\n",
    "print(type(x))\n",
    "\n",
    "# Different operations:\n",
    "# +, -, *, /, %, //, **\n",
    "# and, or, not\n",
    "# modulo:\n",
    "print(5 % 2)\n",
    "# // quotient operator:\n",
    "print(5 // 2)\n",
    "# ** exponent operator:\n",
    "print(5**2)\n",
    "\n",
    "# Boolean operators:\n",
    "print(True  and True)\n",
    "print(False and True)\n",
    "print(True  and False)\n",
    "print(False and False)\n",
    "\n",
    "print(True  or True)\n",
    "print(False or True)\n",
    "print(True  or False)\n",
    "print(False or False)\n",
    "\n",
    "print(not True)\n",
    "print(not False)\n"
   ]
  },
  {
   "cell_type": "code",
   "execution_count": 10,
   "metadata": {},
   "outputs": [
    {
     "name": "stdout",
     "output_type": "stream",
     "text": [
      "ello\n",
      "el\n",
      "olleh\n",
      "o\n",
      "l\n",
      "[1, 3, 4, 5, 6, 7]\n"
     ]
    }
   ],
   "source": [
    "# What's pretty nice about python is its easy indexing:\n",
    "a = 'hello'\n",
    "b = [1, 2, 3, 4, 5]\n",
    "# Try out different things here\n",
    "print(a[1:])\n",
    "print(a[1:4:2]) #format: start:end:step\n",
    "print(a[::-1]) # reverse the string\n",
    "print(a[-1]) # python allows negative indices. So this prints the last element.\n",
    "print(a[-2]) # similarly, this prints the second last element\n",
    "\n",
    "# Different possible operations on lists:\n",
    "# Adds on 6 as an element of the list:\n",
    "b = b + [6]\n",
    "# Adds on 7 as an element of the list:\n",
    "b.append(7)\n",
    "# pops the element of the list in the 1st index:\n",
    "b.pop(1)\n",
    "print(b)"
   ]
  },
  {
   "cell_type": "code",
   "execution_count": 11,
   "metadata": {
    "collapsed": true
   },
   "outputs": [],
   "source": [
    "# Conditionals and loops:\n",
    "# Scopes don't need braces! It's just indentations\n",
    "# Similar to the indexing format here is just range(start, end, step)\n",
    "# for i in range(5, 10, 2):\n",
    "#     print(i)\n",
    "\n",
    "# i = 0\n",
    "# while(i<=10):\n",
    "#     print(i)\n",
    "#     i = i + 1    \n",
    "\n",
    "# i = 0\n",
    "# while(1):\n",
    "#     print(i)\n",
    "#     if(i == 10):\n",
    "#         break\n",
    "#     i = i + 1        "
   ]
  },
  {
   "cell_type": "code",
   "execution_count": 12,
   "metadata": {},
   "outputs": [
    {
     "data": {
      "text/plain": [
       "4.41"
      ]
     },
     "execution_count": 12,
     "metadata": {},
     "output_type": "execute_result"
    }
   ],
   "source": [
    "# Functions in Python:\n",
    "def x_square(x):\n",
    "    \"\"\"\n",
    "    Returns the square of a number\n",
    "    \"\"\"\n",
    "    return x**2\n",
    "\n",
    "x_square(2.1)"
   ]
  },
  {
   "cell_type": "code",
   "execution_count": 13,
   "metadata": {
    "collapsed": true
   },
   "outputs": [],
   "source": [
    "# Viewing the documentation:\n",
    "x_square?"
   ]
  },
  {
   "cell_type": "markdown",
   "metadata": {},
   "source": [
    "OK! We'll start by importing a few libraries to help us out. First: is the library NumPy, which provides us a bunch of useful array operations. Another library which we import for the sake of plotting is matplotlib. Both these libraries have an API similar to Matlab. We will be using these libraries a lot!"
   ]
  },
  {
   "cell_type": "code",
   "execution_count": 14,
   "metadata": {
    "collapsed": true
   },
   "outputs": [],
   "source": [
    "## Moving on to the interesting bits!\n",
    "import numpy as np\n",
    "# Introducing matplotlib:\n",
    "# Again very similar to matlab:\n",
    "import pylab as pl\n",
    "# Alternatively use \"import matplotlib.pyplot as pl\"\n",
    "%matplotlib inline"
   ]
  },
  {
   "cell_type": "code",
   "execution_count": 15,
   "metadata": {},
   "outputs": [
    {
     "name": "stdout",
     "output_type": "stream",
     "text": [
      "[[ 0.81833802 -0.42427874 -0.83082499  0.11310014  0.97104018]\n",
      " [ 0.18427947  0.41290419  0.68407322 -0.05297445  0.10647813]\n",
      " [ 0.83966561  0.38618151 -0.96428151  0.00326738  0.3589555 ]\n",
      " [ 0.73407032 -0.76678988  0.35767639 -0.54538846  0.04435793]\n",
      " [-0.60341018  0.54766348  0.28898435 -0.16145334  0.49966283]]\n"
     ]
    }
   ],
   "source": [
    "# As mentioned earlier, the API is extremely similar to that of MATLAB:\n",
    "# print(np.array([[1, 2], [3, 4]]))\n",
    "\n",
    "# print(np.arange(1, 5))\n",
    "# print(np.arange(1, 5).reshape(2, 2))\n",
    "\n",
    "# Things to try out: arange, linspace, random, zeros, diag, ones:\n",
    "A = 2 * np.random.rand(5, 5) - 1 #np.diag(np.random.rand(5))\n",
    "print(A)\n",
    "# print(A.shape)"
   ]
  },
  {
   "cell_type": "code",
   "execution_count": 16,
   "metadata": {},
   "outputs": [],
   "source": [
    "# Indexing + fancy indexing:\n",
    "# print(A[A<0])\n",
    "# print(A<0)"
   ]
  },
  {
   "cell_type": "code",
   "execution_count": 17,
   "metadata": {
    "collapsed": true
   },
   "outputs": [],
   "source": [
    "# Discussion of copy by reference and value:\n",
    "a = np.array([1, 2, 3])\n",
    "b = a\n",
    "c = a.copy()\n",
    "\n",
    "# a[1] = 4\n",
    "# print(a)\n",
    "# print(b)\n",
    "# print(c)\n",
    "\n",
    "# b[1] = 4\n",
    "# print(a)\n",
    "# print(b)\n",
    "# print(c)\n",
    "\n",
    "# c[1] = 4\n",
    "# print(a)\n",
    "# print(b)\n",
    "# print(c)\n",
    "\n",
    "def change(x):\n",
    "    x[1] = 4\n",
    "\n",
    "# change(a)\n",
    "# print(a)\n",
    "# print(b)\n",
    "# print(c)\n",
    "\n",
    "# change(b)\n",
    "# print(a)\n",
    "# print(b)\n",
    "# print(c)\n",
    "\n",
    "# change(c)\n",
    "# print(a)\n",
    "# print(b)\n",
    "# print(c)"
   ]
  },
  {
   "cell_type": "markdown",
   "metadata": {},
   "source": [
    "## Linear Algebra Operations:"
   ]
  },
  {
   "cell_type": "code",
   "execution_count": 18,
   "metadata": {},
   "outputs": [],
   "source": [
    "# Linear Algebra Operations:\n",
    "A = np.random.rand(5, 5)\n",
    "B = np.random.rand(5, 5)\n",
    "x = np.random.rand(5, 1)\n",
    "\n",
    "# All these are different ways of doing MatVecs:\n",
    "# print(np.dot(A, B))\n",
    "# print(np.matmul(A, B))\n",
    "# print(A.dot(B))\n",
    "# print(A @ B)\n",
    "\n",
    "# Decompositions, inverses, determinants, reshaping, slicing, stacking\n",
    "# A = np.random.rand(100, 100)\n",
    "from scipy import linalg as la\n",
    "\n",
    "# LU Decomposition:\n",
    "# P, L, U = la.lu(A)\n",
    "\n",
    "# Visualzing L:\n",
    "# print(L)\n",
    "# pl.imshow(L, norm = pl.Normalize(0, 1))\n",
    "\n",
    "# Visualizing U:\n",
    "# print(U)\n",
    "# pl.imshow(U, norm = pl.Normalize(0, 1))\n",
    "\n",
    "# Checking if it is correct:\n",
    "# print(la.norm(P @ L @ U - A))\n",
    "\n",
    "# QR Decomposition:\n",
    "# Q, R = la.qr(A)\n",
    "\n",
    "# Visualzing R:\n",
    "# print(R)\n",
    "# pl.imshow(R, norm = pl.Normalize(0, 1))\n",
    "\n",
    "# Checking if Unitary:\n",
    "# print(np.allclose(Q.T @ Q, np.eye(100)))\n",
    "# pl.imshow(Q.T @ Q)\n",
    "\n",
    "# Checking if it is correct:\n",
    "# print(la.norm(Q @ R - A))\n",
    "\n",
    "# SVD:\n",
    "# U, S, Vh = la.svd(A)\n",
    "\n",
    "# Checking if Unitary:\n",
    "# print(np.allclose(U.T @ U, np.eye(100)))\n",
    "# print(np.allclose(Vh.T @ Vh, np.eye(100)))\n",
    "\n",
    "# Visualzing S:\n",
    "# print(S)\n",
    "# pl.plot(S)\n",
    "\n",
    "# Checking if it is correct:\n",
    "# print(la.norm(U * S @ Vh - A))\n",
    "\n",
    "# Inverse:\n",
    "# print(np.allclose(la.inv(A) @ A, np.eye(100)))\n",
    "# print(np.allclose(A @ la.inv(A), np.eye(100)))\n",
    "\n",
    "# Determinant:\n",
    "# print(la.det(A))\n",
    "\n",
    "# Reshaping:\n",
    "# A.reshape(10, 10, 10, 10)\n",
    "\n",
    "# Stacking:\n",
    "# print(A)\n",
    "# print()\n",
    "# print(B)\n",
    "# print()\n",
    "# print(np.vstack((A, B)))\n",
    "\n",
    "# type(np.vstack((A, B)))"
   ]
  },
  {
   "cell_type": "code",
   "execution_count": 19,
   "metadata": {},
   "outputs": [],
   "source": [
    "# Toeplitz Matrices:\n",
    "# la.toeplitz?\n",
    "# A = la.toeplitz(np.arange(20))\n",
    "# print(A)\n",
    "# pl.imshow(A)\n",
    "\n",
    "# Circulant Matrices:\n",
    "# A = la.circulant(np.arange(20))\n",
    "# pl.imshow(A)"
   ]
  },
  {
   "cell_type": "code",
   "execution_count": 20,
   "metadata": {
    "scrolled": false
   },
   "outputs": [
    {
     "data": {
      "text/plain": [
       "Text(0,0.5,'$y$')"
      ]
     },
     "execution_count": 20,
     "metadata": {},
     "output_type": "execute_result"
    },
    {
     "data": {
      "image/png": "[encoded data removed]",
      "text/plain": [
       "<matplotlib.figure.Figure at 0x609407048>"
      ]
     },
     "metadata": {},
     "output_type": "display_data"
    }
   ],
   "source": [
    "x = np.linspace(0, 1, 1000)\n",
    "y = np.sin(2 * np.pi * x)\n",
    "\n",
    "pl.plot(x, y)\n",
    "pl.xlabel(r'$x$')\n",
    "pl.ylabel(r'$y$')"
   ]
  },
  {
   "cell_type": "markdown",
   "metadata": {},
   "source": [
    "Lets take the example of solving the standard wave equation:\n",
    "\n",
    "\\begin{align}\n",
    "\\frac{du}{dt} - c \\left(\\frac{du}{dx}\\right) = 0\n",
    "\\end{align}\n",
    "\n",
    "Discretizing:\n",
    "\n",
    "\\begin{align}\n",
    "\\frac{u_i^{n+1} - u_i^{n}}{\\Delta t} - c \\left(\\frac{u_{i+1}^{n} - u_{i-1}^{n}}{2 \\Delta x}\\right) &= 0 \\\\\n",
    "\\implies u_i^{n+1} &= u_i^{n} + c \\left(\\frac{u_{i+1}^{n} - u_{i-1}^{n}}{2\\Delta x}\\right) \\Delta t\n",
    "\\end{align}"
   ]
  },
  {
   "cell_type": "code",
   "execution_count": 21,
   "metadata": {
    "collapsed": true
   },
   "outputs": [],
   "source": [
    "c = 0.3      # wave speed\n",
    "u = y.copy() # initial condition\n",
    "\n",
    "dx = x[1] - x[0]\n",
    "dt = 1e-4"
   ]
  },
  {
   "cell_type": "code",
   "execution_count": 22,
   "metadata": {
    "collapsed": true
   },
   "outputs": [],
   "source": [
    "# Now the one approach is going to be going index by index:\n",
    "# That is:\n",
    "def du_dx(u):\n",
    "    du_dx = np.zeros(u.size)\n",
    "    for i in range(u.size):\n",
    "\n",
    "        if(i == u.size - 1):\n",
    "            u_forward = u[0]\n",
    "        else:\n",
    "            u_forward = u[i+1]\n",
    "\n",
    "        u_backward  = u[i-1]\n",
    "        \n",
    "        du_dx[i] = (u_forward - u_backward) / (2 * dx)\n",
    "    \n",
    "    return du_dx"
   ]
  },
  {
   "cell_type": "code",
   "execution_count": 23,
   "metadata": {},
   "outputs": [
    {
     "name": "stdout",
     "output_type": "stream",
     "text": [
      "[ 0.4041602   0.05570604  0.36522858  0.29738081  0.55945327]\n",
      "[ 0.05570604  0.36522858  0.29738081  0.55945327  0.4041602 ]\n",
      "[ 0.55945327  0.4041602   0.05570604  0.36522858  0.29738081]\n"
     ]
    }
   ],
   "source": [
    "# Demonstrating np.roll\n",
    "a = np.random.rand(5)\n",
    "\n",
    "print(a)\n",
    "print(np.roll(a, -1))\n",
    "print(np.roll(a, 1))"
   ]
  },
  {
   "cell_type": "code",
   "execution_count": 24,
   "metadata": {
    "collapsed": true
   },
   "outputs": [],
   "source": [
    "time_elapsed = 0\n",
    "# Stepping for 10000 steps to get to t_final = 1\n",
    "for i in range(1000):\n",
    "    time_elapsed += dt\n",
    "#     dudx = du_dx(u)\n",
    "    dudx = (np.roll(u, -1) - np.roll(u, 1)) / (2 * dx)\n",
    "    u    = u + c * dudx * dt\n",
    "\n",
    "    # If you want to get the image of every timestep:\n",
    "#     pl.plot(x, u, label = 'Current')\n",
    "#     pl.plot(x, y, '--', color = 'black', label = 'Initial')\n",
    "#     pl.title('Time = %.3f'%time_elapsed)\n",
    "#     pl.savefig('images/%04d'%i+'.png')\n",
    "#     pl.clf()"
   ]
  },
  {
   "cell_type": "code",
   "execution_count": 25,
   "metadata": {},
   "outputs": [
    {
     "data": {
      "text/plain": [
       "<matplotlib.legend.Legend at 0x611a7da90>"
      ]
     },
     "execution_count": 25,
     "metadata": {},
     "output_type": "execute_result"
    },
    {
     "data": {
      "image/png": "[encoded data removed]",
      "text/plain": [
       "<matplotlib.figure.Figure at 0x6119c5630>"
      ]
     },
     "metadata": {},
     "output_type": "display_data"
    }
   ],
   "source": [
    "pl.plot(x, u, label = 'Current')\n",
    "pl.plot(x, y, '--', color = 'black', label = 'Initial')\n",
    "pl.title('Time = %.3f'%time_elapsed)\n",
    "pl.legend()"
   ]
  },
  {
   "cell_type": "code",
   "execution_count": 26,
   "metadata": {},
   "outputs": [
    {
     "data": {
      "text/plain": [
       "0.0"
      ]
     },
     "execution_count": 26,
     "metadata": {},
     "output_type": "execute_result"
    }
   ],
   "source": [
    "# Demonstrating that both methods are equivalent:\n",
    "np.sum(abs(du_dx(u) - (np.roll(u, -1) - np.roll(u, 1)) / (2 * dx)))"
   ]
  },
  {
   "cell_type": "code",
   "execution_count": 27,
   "metadata": {},
   "outputs": [
    {
     "name": "stdout",
     "output_type": "stream",
     "text": [
      "30.6 µs ± 2.7 µs per loop (mean ± std. dev. of 7 runs, 10000 loops each)\n"
     ]
    }
   ],
   "source": [
    "# Timings\n",
    "# %timeit du_dx(u)\n",
    "%timeit (np.roll(u, -1) - np.roll(u, 1)) / (2 * dx)"
   ]
  },
  {
   "cell_type": "markdown",
   "metadata": {},
   "source": [
    "Toy example: Solving for the harmonic oscillator:\n",
    "\n",
    "\\begin{align}\n",
    "\\frac{d^2 x}{d t^2} = -\\omega^2 x\n",
    "\\end{align}\n",
    "\n",
    "with initial conditions $(x, \\dot{x}) = (0, 1)$"
   ]
  },
  {
   "cell_type": "code",
   "execution_count": 28,
   "metadata": {},
   "outputs": [
    {
     "data": {
      "text/plain": [
       "<matplotlib.legend.Legend at 0x1412858c18>"
      ]
     },
     "execution_count": 28,
     "metadata": {},
     "output_type": "execute_result"
    },
    {
     "data": {
      "image/png": "[encoded data removed]",
      "text/plain": [
       "<matplotlib.figure.Figure at 0x611b10470>"
      ]
     },
     "metadata": {},
     "output_type": "display_data"
    }
   ],
   "source": [
    "def dy_dt(y, t, omega_squared):\n",
    "    \n",
    "    x    = y[0]\n",
    "    xdot = y[1]\n",
    "    \n",
    "    return [xdot, -omega_squared * x]\n",
    "\n",
    "t = np.linspace(0, 10, 1000)\n",
    "\n",
    "from scipy.integrate import odeint\n",
    "\n",
    "x_initial     = 0\n",
    "xdot_initial  = 1\n",
    "omega_squared = 1\n",
    "\n",
    "y0  = [x_initial, xdot_initial]\n",
    "sol = odeint(dy_dt, y0, t, rtol = 1e-14, args=(omega_squared,))\n",
    "\n",
    "pl.plot(t, sol[:, 0], label = r'$x$')\n",
    "pl.plot(t, sol[:, 1], label = r'$\\dot{x}$')\n",
    "pl.xlabel('Time')\n",
    "pl.legend()"
   ]
  },
  {
   "cell_type": "code",
   "execution_count": 29,
   "metadata": {
    "collapsed": true
   },
   "outputs": [],
   "source": [
    "# Viewing documentation of odeint\n",
    "odeint?"
   ]
  },
  {
   "cell_type": "code",
   "execution_count": 30,
   "metadata": {
    "collapsed": true
   },
   "outputs": [],
   "source": [
    "# Integrating this with our earlier example:\n",
    "def du_dt(u, t):\n",
    "    return c * ((np.roll(u, -1) - np.roll(u, 1)) / (2 * dx))"
   ]
  },
  {
   "cell_type": "code",
   "execution_count": 31,
   "metadata": {
    "collapsed": true
   },
   "outputs": [],
   "source": [
    "# The number of levels you take does not matter since it's not used to evaluate timestep(odeint uses an adaptive timestepper):\n",
    "# Rather these are the times at which solution is stored in sol\n",
    "t   = np.linspace(0, 0.2, 10)\n",
    "sol = odeint(du_dt, y, t, rtol = 1e-14)"
   ]
  },
  {
   "cell_type": "code",
   "execution_count": 32,
   "metadata": {},
   "outputs": [
    {
     "name": "stdout",
     "output_type": "stream",
     "text": [
      "(10, 1000)\n",
      "4.20249904218\n"
     ]
    },
    {
     "data": {
      "text/plain": [
       "<matplotlib.legend.Legend at 0x15129a7080>"
      ]
     },
     "execution_count": 32,
     "metadata": {},
     "output_type": "execute_result"
    },
    {
     "data": {
      "image/png": "[encoded data removed]",
      "text/plain": [
       "<matplotlib.figure.Figure at 0x1512944a90>"
      ]
     },
     "metadata": {},
     "output_type": "display_data"
    }
   ],
   "source": [
    "# You will notice that sol has it's shape as (time_steps, grid_points)\n",
    "print(sol.shape)\n",
    "# Seeing the difference b/w solutions using our earlier 1st order Euler integrator and odeint at t = 1:\n",
    "print(np.linalg.norm(sol[-1, :] - u))\n",
    "\n",
    "# Plotting at t = 1:\n",
    "pl.plot(x, sol[-1, :], label = 'odeint')\n",
    "pl.plot(x, u, '--', label = r'Euler($\\mathcal{O}(\\Delta t)$)', color = 'black', alpha = 0.3) # alpha controls opacity\n",
    "# pl.title('Time = %.3f'%time_elapsed)\n",
    "pl.title('Time = 0.2')\n",
    "pl.legend(fontsize = 20)"
   ]
  },
  {
   "cell_type": "markdown",
   "metadata": {},
   "source": [
    "Example of solving a BVP:\n",
    "\\begin{align}\n",
    "\\nabla^2 P = 0\n",
    "\\end{align}\n",
    "\n",
    "with $P_{left} = P_{right} = P_{bottom} = 0$, $P_{top} = 1$"
   ]
  },
  {
   "cell_type": "code",
   "execution_count": 33,
   "metadata": {},
   "outputs": [
    {
     "name": "stdout",
     "output_type": "stream",
     "text": [
      "0:  |F(x)| = 1381.61; step 1; tol 0.000178844\n",
      "1:  |F(x)| = 454.358; step 1; tol 0.0973344\n",
      "2:  |F(x)| = 207.339; step 1; tol 0.187416\n",
      "3:  |F(x)| = 107.375; step 1; tol 0.241374\n",
      "4:  |F(x)| = 52.7622; step 1; tol 0.21731\n",
      "5:  |F(x)| = 10.6767; step 1; tol 0.0368528\n",
      "6:  |F(x)| = 0.95462; step 1; tol 0.00719497\n",
      "7:  |F(x)| = 0.0870997; step 1; tol 0.0074923\n",
      "8:  |F(x)| = 0.00819118; step 1; tol 0.0079598\n",
      "9:  |F(x)| = 0.000314284; step 1; tol 0.00132494\n",
      "10:  |F(x)| = 1.60793e-05; step 1; tol 0.00235575\n",
      "11:  |F(x)| = 1.08996e-06; step 1; tol 0.00413553\n",
      "12:  |F(x)| = 3.22514e-07; step 1; tol 0.0787986\n",
      "13:  |F(x)| = 8.90636e-08; step 1; tol 0.0686351\n",
      "14:  |F(x)| = 3.53097e-09; step 1; tol 0.00141459\n",
      "15:  |F(x)| = 8.21685e-10; step 1; tol 0.0487376\n",
      "Residual: 2.99236e-11\n"
     ]
    }
   ],
   "source": [
    "# Solving a system using newton_krylov:\n",
    "from scipy.optimize import newton_krylov\n",
    "\n",
    "nx, ny = 100, 100\n",
    "hx, hy = 1./(nx-1), 1./(ny-1)\n",
    "\n",
    "P_left, P_right = 0, 0\n",
    "P_bottom, P_top = 0, 1\n",
    "\n",
    "def residual(P):\n",
    "\n",
    "    d2x = np.zeros(P.shape)\n",
    "    d2y = np.zeros(P.shape)\n",
    "\n",
    "    d2x[1:-1] = (P[2:]   - 2*P[1:-1] + P[:-2]) / hx**2\n",
    "    d2x[0]    = (P[1]    - 2*P[0]    + P_left) / hx**2\n",
    "    d2x[-1]   = (P_right - 2*P[-1]   + P[-2])  / hx**2\n",
    "\n",
    "    d2y[:,1:-1] = (P[:,2:] - 2*P[:,1:-1] + P[:,:-2]) / hy**2 \n",
    "    d2y[:,0]    = (P[:,1]  - 2*P[:,0]    + P_bottom) / hy**2\n",
    "    d2y[:,-1]   = (P_top   - 2*P[:,-1]   + P[:,-2])  / hy**2\n",
    "\n",
    "    return d2x + d2y\n",
    "\n",
    "# Solve\n",
    "guess = np.zeros([nx, ny])\n",
    "sol = newton_krylov(residual, guess, f_tol = 1e-10, verbose = 1)\n",
    "print('Residual: %g' % abs(residual(sol)).max())"
   ]
  },
  {
   "cell_type": "code",
   "execution_count": 34,
   "metadata": {},
   "outputs": [
    {
     "data": {
      "text/plain": [
       "<matplotlib.colorbar.Colorbar at 0x151333dd68>"
      ]
     },
     "execution_count": 34,
     "metadata": {},
     "output_type": "execute_result"
    },
    {
     "data": {
      "image/png": "[encoded data removed]",
      "text/plain": [
       "<matplotlib.figure.Figure at 0x15128a1898>"
      ]
     },
     "metadata": {},
     "output_type": "display_data"
    }
   ],
   "source": [
    "# Visualize\n",
    "x, y = np.mgrid[0:1:nx*1j, 0:1:ny*1j]\n",
    "pl.contourf(x, y, sol, 100)\n",
    "pl.gca().set_aspect('equal')\n",
    "pl.colorbar()"
   ]
  },
  {
   "cell_type": "code",
   "execution_count": 35,
   "metadata": {},
   "outputs": [
    {
     "name": "stdout",
     "output_type": "stream",
     "text": [
      "Residual: 2.32538e-07\n"
     ]
    }
   ],
   "source": [
    "# Solving a system using root:\n",
    "# We use this instead since it allows additional arguments to be passed which isn't allowed by newton_raphson\n",
    "# This is needed to get the expected functionality with the sliders:\n",
    "# NOTE root requires the initial guess to be passed in 1D with the returned residuals in 1D as well:\n",
    "from scipy.optimize import root\n",
    "\n",
    "nx, ny = 50, 50\n",
    "hx, hy = 1./(nx-1), 1./(ny-1)\n",
    "\n",
    "def residual(P, P_left, P_right, P_bottom, P_top):\n",
    "\n",
    "    P = P.reshape([nx, ny])\n",
    "    \n",
    "    d2x = np.zeros(P.shape)\n",
    "    d2y = np.zeros(P.shape)\n",
    "\n",
    "    d2x[1:-1] = (P[2:]   - 2*P[1:-1] + P[:-2]) / hx**2\n",
    "    d2x[0]    = (P[1]    - 2*P[0]    + P_left) / hx**2\n",
    "    d2x[-1]   = (P_right - 2*P[-1]   + P[-2])  / hx**2\n",
    "\n",
    "    d2y[:,1:-1] = (P[:,2:] - 2*P[:,1:-1] + P[:,:-2]) / hy**2 \n",
    "    d2y[:,0]    = (P[:,1]  - 2*P[:,0]    + P_bottom) / hy**2\n",
    "    d2y[:,-1]   = (P_top   - 2*P[:,-1]   + P[:,-2])  / hy**2\n",
    "\n",
    "    return d2x.ravel() + d2y.ravel()\n",
    "\n",
    "# Solve\n",
    "root?\n",
    "guess = np.zeros([nx, ny])\n",
    "sol = root(residual, guess.flatten(), method = 'krylov', args = (0, 0, 0, 1,))\n",
    "print('Residual: %g' % abs(residual(sol.x, 0, 0, 0, 1).max()))"
   ]
  },
  {
   "cell_type": "code",
   "execution_count": 36,
   "metadata": {},
   "outputs": [
    {
     "data": {
      "text/plain": [
       "<matplotlib.colorbar.Colorbar at 0x151354cc50>"
      ]
     },
     "execution_count": 36,
     "metadata": {},
     "output_type": "execute_result"
    },
    {
     "data": {
      "image/png": "[encoded data removed]",
      "text/plain": [
       "<matplotlib.figure.Figure at 0x1513409748>"
      ]
     },
     "metadata": {},
     "output_type": "display_data"
    }
   ],
   "source": [
    "# Visualize\n",
    "x, y = np.mgrid[0:1:nx*1j, 0:1:ny*1j]\n",
    "pl.contourf(x, y, sol.x.reshape([nx, ny]), 100)\n",
    "pl.gca().set_aspect('equal')\n",
    "pl.colorbar()"
   ]
  },
  {
   "cell_type": "code",
   "execution_count": 37,
   "metadata": {},
   "outputs": [
    {
     "data": {
      "application/vnd.jupyter.widget-view+json": {
       "model_id": "b24367078a754d789c788c978ed3489a",
       "version_major": 2,
       "version_minor": 0
      },
      "text/plain": [
       "A Jupyter Widget"
      ]
     },
     "metadata": {},
     "output_type": "display_data"
    }
   ],
   "source": [
    "# Ensure that this is installed beforehand using `conda install ipywidgets`\n",
    "from ipywidgets import interact\n",
    "\n",
    "t = np.arange(0, 1, 0.001)\n",
    "\n",
    "# We are passing parameters for the sliders using arguments of the function. Again format is (start_limit, stop_limit, stepsize)\n",
    "@interact\n",
    "def plot_sinusoid(f=(0, 10, 1)):\n",
    "    pl.plot(t, np.sin(2 * np.pi * t * f))"
   ]
  },
  {
   "cell_type": "code",
   "execution_count": 38,
   "metadata": {},
   "outputs": [
    {
     "data": {
      "application/vnd.jupyter.widget-view+json": {
       "model_id": "0fb460b2f5554e748bac8e26ce66e2ac",
       "version_major": 2,
       "version_minor": 0
      },
      "text/plain": [
       "A Jupyter Widget"
      ]
     },
     "metadata": {},
     "output_type": "display_data"
    }
   ],
   "source": [
    "@interact\n",
    "def explore_poisson(P_left = (0, 5, 1), P_right = (0, 5, 1), P_bottom = (0, 5, 1), P_top = (0, 5, 1)):\n",
    "    \n",
    "    sol = root(residual, guess.flatten(), method = 'krylov', args = (P_left, P_right, P_bottom, P_top,))\n",
    "    pl.clf()\n",
    "    pl.contourf(x, y, sol.x.reshape([nx, ny]), 100)\n",
    "    pl.gca().set_aspect('equal')\n",
    "    pl.colorbar()"
   ]
  },
  {
   "cell_type": "markdown",
   "metadata": {},
   "source": [
    "# TikZ\n",
    "\n",
    "TikZ is a nice tool to help you embed images in $\\LaTeX$ files. It gets particularly useful to draw schematics to explain your thinking. In jupyter-notebooks, you will need to install the tikzmagic extension which can be obtained from [here](https://github.com/mkrphys/ipython-tikzmagic)\n",
    "\n",
    "[This](https://tilingslyon2017.sciencesconf.org/data/tikz.pdf) presentation shows how awesome tikz is! "
   ]
  },
  {
   "cell_type": "code",
   "execution_count": 39,
   "metadata": {},
   "outputs": [
    {
     "name": "stdout",
     "output_type": "stream",
     "text": [
      "The tikzmagic module is not an IPython extension.\n"
     ]
    }
   ],
   "source": [
    "%load_ext tikzmagic"
   ]
  },
  {
   "cell_type": "code",
   "execution_count": 40,
   "metadata": {
    "scrolled": true
   },
   "outputs": [
    {
     "data": {
      "image/png": "[encoded data removed]",
      "text/plain": [
       "<IPython.core.display.Image object>"
      ]
     },
     "execution_count": 40,
     "metadata": {},
     "output_type": "execute_result"
    }
   ],
   "source": [
    "%%tikz\n",
    "\\draw[step = 4] (0,0) grid (8,4);\n",
    "\\draw [fill=black] (0,0) circle (0.1);\n",
    "\\draw [fill=black] (4,0) circle (0.1);\n",
    "\\draw [fill=black] (8,0) circle (0.1);\n",
    "\\node at (0,-0.5) {$B_z(i, j)$};\n",
    "\\node at (4,-0.5) {$B_z(i+1, j)$};\n",
    "\\node at (8,-0.5) {$B_z(i+2, j)$};\n",
    "\n",
    "\\draw [fill=blue] (0,2) circle (0.1);\n",
    "\\draw [fill=blue] (4,2) circle (0.1);\n",
    "\\draw [fill=blue] (8,2) circle (0.1);\n",
    "\\draw [fill=blue] (0,-2) circle (0.1);\n",
    "\\draw [fill=blue] (4,-2) circle (0.1);\n",
    "\\draw [fill=blue] (8,-2) circle (0.1);\n",
    "\\node at (1.2,2) {$E_x(i, j+1/2)$};\n",
    "\\node at (5.5,2) {$E_x(i+1, j+1/2)$};\n",
    "\\node at (9.5,2) {$E_x(i+2, j+1/2)$};\n",
    "\\node at (1.2,-2) {$E_x(i, j-1/2)$};\n",
    "\\node at (5.5,-2) {$E_x(i+1, j-1/2)$};\n",
    "\\node at (9.5,-2) {$E_x(i+2, j-1/2)$};\n",
    "\n",
    "\\draw [fill=red] (-2,0) circle (0.1);\n",
    "\\draw [fill=red] (2,0) circle (0.1);\n",
    "\\draw [fill=red] (6,0) circle (0.1);\n",
    "\\draw [fill=red] (10,0) circle (0.1);\n",
    "\n",
    "\\node at (-2,0.5) {$E_y(i-1/2, j)$};\n",
    "\\node at (2,0.5) {$E_y(i+1/2, j)$};\n",
    "\\node at (6,0.5) {$E_y(i+3/2, j)$};\n",
    "\\node at (10,0.5) {$E_y(i+5/2, j)$};"
   ]
  }
 ],
 "metadata": {
  "kernelspec": {
   "display_name": "Python 3",
   "language": "python",
   "name": "python3"
  },
  "language_info": {
   "codemirror_mode": {
    "name": "ipython",
    "version": 3
   },
   "file_extension": ".py",
   "mimetype": "text/x-python",
   "name": "python",
   "nbconvert_exporter": "python",
   "pygments_lexer": "ipython3",
   "version": "3.6.3"
  }
 },
 "nbformat": 4,
 "nbformat_minor": 2
}
